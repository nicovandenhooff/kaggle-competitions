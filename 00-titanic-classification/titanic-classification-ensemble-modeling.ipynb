{
 "cells": [
  {
   "cell_type": "markdown",
   "id": "abstract-access",
   "metadata": {
    "papermill": {
     "duration": 0.063287,
     "end_time": "2021-05-29T22:59:09.799581",
     "exception": false,
     "start_time": "2021-05-29T22:59:09.736294",
     "status": "completed"
    },
    "tags": []
   },
   "source": [
    "# Titanic Classification Project"
   ]
  },
  {
   "cell_type": "markdown",
   "id": "composed-flower",
   "metadata": {
    "papermill": {
     "duration": 0.060008,
     "end_time": "2021-05-29T22:59:09.920551",
     "exception": false,
     "start_time": "2021-05-29T22:59:09.860543",
     "status": "completed"
    },
    "tags": []
   },
   "source": [
    "# Table of Contents\n",
    "* [0. Introduction](#0.-Introduction)\n",
    "    * [0.1 Introduction to dataset](#0.1-Introduction-to-dataset)\n",
    "    * [0.2 Overall goal](#0.2-Overall-goal)\n",
    "    * [0.3 Library imports](#0.3-Library-imports)\n",
    "* [1. Explatory Data Analysis and Feature Engineering](#1.-Exploratory-Data-Analysis-and-Feature-Engineering)\n",
    "    * [1.1 Data import and inspection](#1.1-Data-import-and-inspection)\n",
    "    * [1.2 Overall survival rate](#1.2-Overall-survival-rate)\n",
    "    * [1.3 Survival rate: gender and passenger class](#1.3-Survival-rate:-gender-and-passenger-class)\n",
    "    * [1.4 Survival rate: gender and port of embarktion](#1.4-Survival-rate:-gender-and-port-of-embarkation)\n",
    "    * [1.5 New Feature: Age bins](#1.5-New-feature:-Age-bins)\n",
    "    * [1.6 New Feature: Title](#1.6-New-Feature:-Title)\n",
    "    * [1.7 New Feature: Total Family Size](#1.7-New-Feature:-Total-family-size)\n",
    "    * [1.8 New Feature: Deck](#1.8-New-Feature:-Deck)\n",
    "* [2. Data preparation and pipeline construction](#2.-Data-preparation-and-pipeline-construction)\n",
    "    * [2.1: Create transformer for custom features](#2.1:-Create-transformer-for-custom-features)\n",
    "    * [2.2: Create data pipeline](#2.2:-Create-data-pipeline)\n",
    "* [3. Model Selection, Tuning, and Emsembling](#3.-Model-Selection,-Tuning,-and-Emsembling)\n",
    "    * [3.1: Model 1 (Base model) Always predict a passenger dies](#3.1:-Model-1-(Base-model)-Always-predict-a-passenger-dies)\n",
    "    * [3.2: Model 2: Logistic regression](#3.2:-Model-2:-Logistic-regression)\n",
    "    * [3.3: Model 3: SVM classifer](#3.3:-Model-3:-SVM-classifer)\n",
    "    * [3.4: Model 4: Random Forest](#3.4:-Model-4:-Random-Forest)\n",
    "    * [3.5: Model Tuning](#3.5:-Model-Tuning)\n",
    "        * [3.5.1: SVM Classifier Tuning](#3.5.1:-SVM-Classifier-Tuning)\n",
    "        * [3.5.2: Random Forest Classifier Tuning](#3.5.2:-Random-Forest-Classifier-Tuning)\n",
    "    * [3.6 Model ensembling](#3.6-Model-ensembling)\n",
    "* [4. Final Predictions](#4.-Final-Predictions)"
   ]
  },
  {
   "cell_type": "markdown",
   "id": "outdoor-hawaii",
   "metadata": {
    "papermill": {
     "duration": 0.062219,
     "end_time": "2021-05-29T22:59:10.044193",
     "exception": false,
     "start_time": "2021-05-29T22:59:09.981974",
     "status": "completed"
    },
    "tags": []
   },
   "source": [
    "# 0. Introduction"
   ]
  },
  {
   "cell_type": "markdown",
   "id": "continent-coordinator",
   "metadata": {
    "papermill": {
     "duration": 0.060528,
     "end_time": "2021-05-29T22:59:10.165668",
     "exception": false,
     "start_time": "2021-05-29T22:59:10.105140",
     "status": "completed"
    },
    "tags": []
   },
   "source": [
    "### 0.1 Introduction to dataset\n",
    "\n",
    "The dataset we will be working with is a collection of data on the passengers of the Titanic ship.  There are various features for each passenger, and our goal is to predict whether or not a passenger survived when the ship crashed.\n",
    "\n",
    "Below is a a table that contains the features of the dataset, their definition, a key if applicable, and the respective data type of each.\n",
    "\n",
    "| Featute  | Definition                                | Key                                             | Data Type   |\n",
    "|----------|-------------------------------------------|-------------------------------------------------|-------------|\n",
    "| Survival | Label - If someone survives or not        | 0 = No, 1 = Yes                                 | Categorical |\n",
    "| Pclass   | Class of a passengers ticket              | 1 = 1st, 2 = 2nd, 3 = 2rd                       | Ordinal     |\n",
    "| Sex      | A passengers sex (male/female)            |                                                 | Categorical |\n",
    "| Sibsp    | # of passengers siblings and/or spouses   |                                                 | Numerical   |\n",
    "| Parch    | # of a passengers parents and/or children |                                                 | Numerical   |\n",
    "| Ticket   | Ticket number                             |                                                 | Categorical |\n",
    "| Fare     | Passenger fare                            |                                                 | Numerical   |\n",
    "| Cabin    | Cabin number                              |                                                 | Categorical |\n",
    "| Embarked | Port of Embarkation                       | C = Cherbourg, Q = Queenstown, S = Southhampton | Categorical |"
   ]
  },
  {
   "cell_type": "markdown",
   "id": "protecting-sociology",
   "metadata": {
    "papermill": {
     "duration": 0.058127,
     "end_time": "2021-05-29T22:59:10.283981",
     "exception": false,
     "start_time": "2021-05-29T22:59:10.225854",
     "status": "completed"
    },
    "tags": []
   },
   "source": [
    "### 0.2 Overall goal\n",
    "Our goal will be to train a machine learning model that can predict (classify) whether or not a passenger of the titanic will survive or not when the ship crashes.  Our measurement of interest will be accuracy.  I will aim for an model that produces an accuracy of at least 80% on the train set (and hopefully the same, or higher, on the test set!)"
   ]
  },
  {
   "cell_type": "markdown",
   "id": "weird-gilbert",
   "metadata": {
    "papermill": {
     "duration": 0.060087,
     "end_time": "2021-05-29T22:59:10.403798",
     "exception": false,
     "start_time": "2021-05-29T22:59:10.343711",
     "status": "completed"
    },
    "tags": []
   },
   "source": [
    "### 0.3 Library imports\n",
    "Below I've imported the libraries I'll be using throughout this kernel."
   ]
  },
  {
   "cell_type": "code",
   "execution_count": 1,
   "id": "hollow-trust",
   "metadata": {
    "execution": {
     "iopub.execute_input": "2021-05-29T22:59:10.534960Z",
     "iopub.status.busy": "2021-05-29T22:59:10.534298Z",
     "iopub.status.idle": "2021-05-29T22:59:11.922229Z",
     "shell.execute_reply": "2021-05-29T22:59:11.922776Z",
     "shell.execute_reply.started": "2021-05-28T22:41:25.709284Z"
    },
    "papermill": {
     "duration": 1.459696,
     "end_time": "2021-05-29T22:59:11.923098",
     "exception": false,
     "start_time": "2021-05-29T22:59:10.463402",
     "status": "completed"
    },
    "tags": []
   },
   "outputs": [],
   "source": [
    "# import necessary libraries\n",
    "import re\n",
    "import numpy as np\n",
    "import pandas as pd\n",
    "import matplotlib.pyplot as plt\n",
    "import seaborn as sns\n",
    "from sklearn.impute import SimpleImputer\n",
    "from sklearn.preprocessing import OrdinalEncoder, OneHotEncoder, StandardScaler\n",
    "from sklearn.pipeline import Pipeline\n",
    "from sklearn.compose import ColumnTransformer\n",
    "from sklearn.base import BaseEstimator, TransformerMixin\n",
    "from sklearn.model_selection import GridSearchCV, cross_val_score, cross_val_predict\n",
    "from sklearn.linear_model import LogisticRegression\n",
    "from sklearn.svm import SVC\n",
    "from sklearn.ensemble import RandomForestClassifier, VotingClassifier\n",
    "from sklearn.metrics import classification_report"
   ]
  },
  {
   "cell_type": "markdown",
   "id": "finite-dragon",
   "metadata": {
    "papermill": {
     "duration": 0.059138,
     "end_time": "2021-05-29T22:59:12.045548",
     "exception": false,
     "start_time": "2021-05-29T22:59:11.986410",
     "status": "completed"
    },
    "tags": []
   },
   "source": [
    "# 1. Exploratory Data Analysis and Feature Engineering\n",
    "First, we'll perform some explatory data analysis and engineer a few new features."
   ]
  },
  {
   "cell_type": "markdown",
   "id": "frequent-relevance",
   "metadata": {
    "papermill": {
     "duration": 0.059309,
     "end_time": "2021-05-29T22:59:12.163245",
     "exception": false,
     "start_time": "2021-05-29T22:59:12.103936",
     "status": "completed"
    },
    "tags": []
   },
   "source": [
    "### 1.1 Data import and inspection\n",
    "- First I've imported the data and done some preliminary inspections\n",
    "- There appears to be missing values in the age, cabin, and embarked columns.  I'll deal with these in section 2 of this kernel."
   ]
  },
  {
   "cell_type": "code",
   "execution_count": 2,
   "id": "classical-layer",
   "metadata": {
    "execution": {
     "iopub.execute_input": "2021-05-29T22:59:12.291561Z",
     "iopub.status.busy": "2021-05-29T22:59:12.290835Z",
     "iopub.status.idle": "2021-05-29T22:59:12.350262Z",
     "shell.execute_reply": "2021-05-29T22:59:12.349614Z",
     "shell.execute_reply.started": "2021-05-28T22:41:27.117737Z"
    },
    "papermill": {
     "duration": 0.126729,
     "end_time": "2021-05-29T22:59:12.350405",
     "exception": false,
     "start_time": "2021-05-29T22:59:12.223676",
     "status": "completed"
    },
    "tags": []
   },
   "outputs": [],
   "source": [
    "# create paths to training and test data\n",
    "train_path = '/kaggle/input/titanic/train.csv'\n",
    "test_path = '/kaggle/input/titanic/test.csv'\n",
    "\n",
    "# target label in dataset\n",
    "target = 'Survived'\n",
    "\n",
    "# to use PassengerId as index\n",
    "index = 'PassengerId'\n",
    "\n",
    "# define explicit datatypes for each attribute\n",
    "dtypes = ({\n",
    "    'Survived': bool, \n",
    "    'Pclass':   'category', \n",
    "    'Name':     'category',\n",
    "    'Sex':      'category',\n",
    "    'Age':      float,\n",
    "    'SibSp':    int,\n",
    "    'Parch':    int,\n",
    "    'Ticket':  'category',\n",
    "    'Fare':     float,\n",
    "    'Cabin':   'category',\n",
    "    'Embarked':'category'\n",
    "})\n",
    "\n",
    "# create seperate dataframes that hold the training and test sets\n",
    "titanic = pd.read_csv(train_path, index_col=index, dtype=dtypes)\n",
    "titanic_test = pd.read_csv(test_path, index_col=index, dtype=dtypes)"
   ]
  },
  {
   "cell_type": "code",
   "execution_count": 3,
   "id": "textile-smooth",
   "metadata": {
    "execution": {
     "iopub.execute_input": "2021-05-29T22:59:12.477687Z",
     "iopub.status.busy": "2021-05-29T22:59:12.476678Z",
     "iopub.status.idle": "2021-05-29T22:59:12.501889Z",
     "shell.execute_reply": "2021-05-29T22:59:12.501244Z",
     "shell.execute_reply.started": "2021-05-28T22:41:27.176261Z"
    },
    "papermill": {
     "duration": 0.091217,
     "end_time": "2021-05-29T22:59:12.502025",
     "exception": false,
     "start_time": "2021-05-29T22:59:12.410808",
     "status": "completed"
    },
    "tags": []
   },
   "outputs": [
    {
     "data": {
      "text/html": [
       "<div>\n",
       "<style scoped>\n",
       "    .dataframe tbody tr th:only-of-type {\n",
       "        vertical-align: middle;\n",
       "    }\n",
       "\n",
       "    .dataframe tbody tr th {\n",
       "        vertical-align: top;\n",
       "    }\n",
       "\n",
       "    .dataframe thead th {\n",
       "        text-align: right;\n",
       "    }\n",
       "</style>\n",
       "<table border=\"1\" class=\"dataframe\">\n",
       "  <thead>\n",
       "    <tr style=\"text-align: right;\">\n",
       "      <th></th>\n",
       "      <th>Survived</th>\n",
       "      <th>Pclass</th>\n",
       "      <th>Name</th>\n",
       "      <th>Sex</th>\n",
       "      <th>Age</th>\n",
       "      <th>SibSp</th>\n",
       "      <th>Parch</th>\n",
       "      <th>Ticket</th>\n",
       "      <th>Fare</th>\n",
       "      <th>Cabin</th>\n",
       "      <th>Embarked</th>\n",
       "    </tr>\n",
       "    <tr>\n",
       "      <th>PassengerId</th>\n",
       "      <th></th>\n",
       "      <th></th>\n",
       "      <th></th>\n",
       "      <th></th>\n",
       "      <th></th>\n",
       "      <th></th>\n",
       "      <th></th>\n",
       "      <th></th>\n",
       "      <th></th>\n",
       "      <th></th>\n",
       "      <th></th>\n",
       "    </tr>\n",
       "  </thead>\n",
       "  <tbody>\n",
       "    <tr>\n",
       "      <th>1</th>\n",
       "      <td>False</td>\n",
       "      <td>3</td>\n",
       "      <td>Braund, Mr. Owen Harris</td>\n",
       "      <td>male</td>\n",
       "      <td>22.0</td>\n",
       "      <td>1</td>\n",
       "      <td>0</td>\n",
       "      <td>A/5 21171</td>\n",
       "      <td>7.2500</td>\n",
       "      <td>NaN</td>\n",
       "      <td>S</td>\n",
       "    </tr>\n",
       "    <tr>\n",
       "      <th>2</th>\n",
       "      <td>True</td>\n",
       "      <td>1</td>\n",
       "      <td>Cumings, Mrs. John Bradley (Florence Briggs Th...</td>\n",
       "      <td>female</td>\n",
       "      <td>38.0</td>\n",
       "      <td>1</td>\n",
       "      <td>0</td>\n",
       "      <td>PC 17599</td>\n",
       "      <td>71.2833</td>\n",
       "      <td>C85</td>\n",
       "      <td>C</td>\n",
       "    </tr>\n",
       "    <tr>\n",
       "      <th>3</th>\n",
       "      <td>True</td>\n",
       "      <td>3</td>\n",
       "      <td>Heikkinen, Miss. Laina</td>\n",
       "      <td>female</td>\n",
       "      <td>26.0</td>\n",
       "      <td>0</td>\n",
       "      <td>0</td>\n",
       "      <td>STON/O2. 3101282</td>\n",
       "      <td>7.9250</td>\n",
       "      <td>NaN</td>\n",
       "      <td>S</td>\n",
       "    </tr>\n",
       "    <tr>\n",
       "      <th>4</th>\n",
       "      <td>True</td>\n",
       "      <td>1</td>\n",
       "      <td>Futrelle, Mrs. Jacques Heath (Lily May Peel)</td>\n",
       "      <td>female</td>\n",
       "      <td>35.0</td>\n",
       "      <td>1</td>\n",
       "      <td>0</td>\n",
       "      <td>113803</td>\n",
       "      <td>53.1000</td>\n",
       "      <td>C123</td>\n",
       "      <td>S</td>\n",
       "    </tr>\n",
       "    <tr>\n",
       "      <th>5</th>\n",
       "      <td>False</td>\n",
       "      <td>3</td>\n",
       "      <td>Allen, Mr. William Henry</td>\n",
       "      <td>male</td>\n",
       "      <td>35.0</td>\n",
       "      <td>0</td>\n",
       "      <td>0</td>\n",
       "      <td>373450</td>\n",
       "      <td>8.0500</td>\n",
       "      <td>NaN</td>\n",
       "      <td>S</td>\n",
       "    </tr>\n",
       "  </tbody>\n",
       "</table>\n",
       "</div>"
      ],
      "text/plain": [
       "             Survived Pclass  \\\n",
       "PassengerId                    \n",
       "1               False      3   \n",
       "2                True      1   \n",
       "3                True      3   \n",
       "4                True      1   \n",
       "5               False      3   \n",
       "\n",
       "                                                          Name     Sex   Age  \\\n",
       "PassengerId                                                                    \n",
       "1                                      Braund, Mr. Owen Harris    male  22.0   \n",
       "2            Cumings, Mrs. John Bradley (Florence Briggs Th...  female  38.0   \n",
       "3                                       Heikkinen, Miss. Laina  female  26.0   \n",
       "4                 Futrelle, Mrs. Jacques Heath (Lily May Peel)  female  35.0   \n",
       "5                                     Allen, Mr. William Henry    male  35.0   \n",
       "\n",
       "             SibSp  Parch            Ticket     Fare Cabin Embarked  \n",
       "PassengerId                                                          \n",
       "1                1      0         A/5 21171   7.2500   NaN        S  \n",
       "2                1      0          PC 17599  71.2833   C85        C  \n",
       "3                0      0  STON/O2. 3101282   7.9250   NaN        S  \n",
       "4                1      0            113803  53.1000  C123        S  \n",
       "5                0      0            373450   8.0500   NaN        S  "
      ]
     },
     "execution_count": 3,
     "metadata": {},
     "output_type": "execute_result"
    }
   ],
   "source": [
    "# look at top of data\n",
    "titanic.head()"
   ]
  },
  {
   "cell_type": "code",
   "execution_count": 4,
   "id": "australian-crossing",
   "metadata": {
    "execution": {
     "iopub.execute_input": "2021-05-29T22:59:12.640760Z",
     "iopub.status.busy": "2021-05-29T22:59:12.639779Z",
     "iopub.status.idle": "2021-05-29T22:59:12.644652Z",
     "shell.execute_reply": "2021-05-29T22:59:12.644129Z",
     "shell.execute_reply.started": "2021-05-28T22:41:27.209984Z"
    },
    "papermill": {
     "duration": 0.0837,
     "end_time": "2021-05-29T22:59:12.644800",
     "exception": false,
     "start_time": "2021-05-29T22:59:12.561100",
     "status": "completed"
    },
    "tags": []
   },
   "outputs": [
    {
     "data": {
      "text/html": [
       "<div>\n",
       "<style scoped>\n",
       "    .dataframe tbody tr th:only-of-type {\n",
       "        vertical-align: middle;\n",
       "    }\n",
       "\n",
       "    .dataframe tbody tr th {\n",
       "        vertical-align: top;\n",
       "    }\n",
       "\n",
       "    .dataframe thead th {\n",
       "        text-align: right;\n",
       "    }\n",
       "</style>\n",
       "<table border=\"1\" class=\"dataframe\">\n",
       "  <thead>\n",
       "    <tr style=\"text-align: right;\">\n",
       "      <th></th>\n",
       "      <th>Survived</th>\n",
       "      <th>Pclass</th>\n",
       "      <th>Name</th>\n",
       "      <th>Sex</th>\n",
       "      <th>Age</th>\n",
       "      <th>SibSp</th>\n",
       "      <th>Parch</th>\n",
       "      <th>Ticket</th>\n",
       "      <th>Fare</th>\n",
       "      <th>Cabin</th>\n",
       "      <th>Embarked</th>\n",
       "    </tr>\n",
       "    <tr>\n",
       "      <th>PassengerId</th>\n",
       "      <th></th>\n",
       "      <th></th>\n",
       "      <th></th>\n",
       "      <th></th>\n",
       "      <th></th>\n",
       "      <th></th>\n",
       "      <th></th>\n",
       "      <th></th>\n",
       "      <th></th>\n",
       "      <th></th>\n",
       "      <th></th>\n",
       "    </tr>\n",
       "  </thead>\n",
       "  <tbody>\n",
       "    <tr>\n",
       "      <th>887</th>\n",
       "      <td>False</td>\n",
       "      <td>2</td>\n",
       "      <td>Montvila, Rev. Juozas</td>\n",
       "      <td>male</td>\n",
       "      <td>27.0</td>\n",
       "      <td>0</td>\n",
       "      <td>0</td>\n",
       "      <td>211536</td>\n",
       "      <td>13.00</td>\n",
       "      <td>NaN</td>\n",
       "      <td>S</td>\n",
       "    </tr>\n",
       "    <tr>\n",
       "      <th>888</th>\n",
       "      <td>True</td>\n",
       "      <td>1</td>\n",
       "      <td>Graham, Miss. Margaret Edith</td>\n",
       "      <td>female</td>\n",
       "      <td>19.0</td>\n",
       "      <td>0</td>\n",
       "      <td>0</td>\n",
       "      <td>112053</td>\n",
       "      <td>30.00</td>\n",
       "      <td>B42</td>\n",
       "      <td>S</td>\n",
       "    </tr>\n",
       "    <tr>\n",
       "      <th>889</th>\n",
       "      <td>False</td>\n",
       "      <td>3</td>\n",
       "      <td>Johnston, Miss. Catherine Helen \"Carrie\"</td>\n",
       "      <td>female</td>\n",
       "      <td>NaN</td>\n",
       "      <td>1</td>\n",
       "      <td>2</td>\n",
       "      <td>W./C. 6607</td>\n",
       "      <td>23.45</td>\n",
       "      <td>NaN</td>\n",
       "      <td>S</td>\n",
       "    </tr>\n",
       "    <tr>\n",
       "      <th>890</th>\n",
       "      <td>True</td>\n",
       "      <td>1</td>\n",
       "      <td>Behr, Mr. Karl Howell</td>\n",
       "      <td>male</td>\n",
       "      <td>26.0</td>\n",
       "      <td>0</td>\n",
       "      <td>0</td>\n",
       "      <td>111369</td>\n",
       "      <td>30.00</td>\n",
       "      <td>C148</td>\n",
       "      <td>C</td>\n",
       "    </tr>\n",
       "    <tr>\n",
       "      <th>891</th>\n",
       "      <td>False</td>\n",
       "      <td>3</td>\n",
       "      <td>Dooley, Mr. Patrick</td>\n",
       "      <td>male</td>\n",
       "      <td>32.0</td>\n",
       "      <td>0</td>\n",
       "      <td>0</td>\n",
       "      <td>370376</td>\n",
       "      <td>7.75</td>\n",
       "      <td>NaN</td>\n",
       "      <td>Q</td>\n",
       "    </tr>\n",
       "  </tbody>\n",
       "</table>\n",
       "</div>"
      ],
      "text/plain": [
       "             Survived Pclass                                      Name  \\\n",
       "PassengerId                                                              \n",
       "887             False      2                     Montvila, Rev. Juozas   \n",
       "888              True      1              Graham, Miss. Margaret Edith   \n",
       "889             False      3  Johnston, Miss. Catherine Helen \"Carrie\"   \n",
       "890              True      1                     Behr, Mr. Karl Howell   \n",
       "891             False      3                       Dooley, Mr. Patrick   \n",
       "\n",
       "                Sex   Age  SibSp  Parch      Ticket   Fare Cabin Embarked  \n",
       "PassengerId                                                                \n",
       "887            male  27.0      0      0      211536  13.00   NaN        S  \n",
       "888          female  19.0      0      0      112053  30.00   B42        S  \n",
       "889          female   NaN      1      2  W./C. 6607  23.45   NaN        S  \n",
       "890            male  26.0      0      0      111369  30.00  C148        C  \n",
       "891            male  32.0      0      0      370376   7.75   NaN        Q  "
      ]
     },
     "execution_count": 4,
     "metadata": {},
     "output_type": "execute_result"
    }
   ],
   "source": [
    "# look at bottom of data\n",
    "titanic.tail()"
   ]
  },
  {
   "cell_type": "code",
   "execution_count": 5,
   "id": "charged-homework",
   "metadata": {
    "execution": {
     "iopub.execute_input": "2021-05-29T22:59:12.771224Z",
     "iopub.status.busy": "2021-05-29T22:59:12.770535Z",
     "iopub.status.idle": "2021-05-29T22:59:12.806020Z",
     "shell.execute_reply": "2021-05-29T22:59:12.805344Z",
     "shell.execute_reply.started": "2021-05-28T22:41:27.233603Z"
    },
    "papermill": {
     "duration": 0.099382,
     "end_time": "2021-05-29T22:59:12.806159",
     "exception": false,
     "start_time": "2021-05-29T22:59:12.706777",
     "status": "completed"
    },
    "tags": []
   },
   "outputs": [
    {
     "name": "stdout",
     "output_type": "stream",
     "text": [
      "<class 'pandas.core.frame.DataFrame'>\n",
      "Int64Index: 891 entries, 1 to 891\n",
      "Data columns (total 11 columns):\n",
      " #   Column    Non-Null Count  Dtype   \n",
      "---  ------    --------------  -----   \n",
      " 0   Survived  891 non-null    bool    \n",
      " 1   Pclass    891 non-null    category\n",
      " 2   Name      891 non-null    category\n",
      " 3   Sex       891 non-null    category\n",
      " 4   Age       714 non-null    float64 \n",
      " 5   SibSp     891 non-null    int64   \n",
      " 6   Parch     891 non-null    int64   \n",
      " 7   Ticket    891 non-null    category\n",
      " 8   Fare      891 non-null    float64 \n",
      " 9   Cabin     204 non-null    category\n",
      " 10  Embarked  889 non-null    category\n",
      "dtypes: bool(1), category(6), float64(2), int64(2)\n",
      "memory usage: 109.8 KB\n"
     ]
    }
   ],
   "source": [
    "# look at overall structure of data\n",
    "titanic.info()"
   ]
  },
  {
   "cell_type": "code",
   "execution_count": 6,
   "id": "frequent-electronics",
   "metadata": {
    "execution": {
     "iopub.execute_input": "2021-05-29T22:59:12.934662Z",
     "iopub.status.busy": "2021-05-29T22:59:12.933960Z",
     "iopub.status.idle": "2021-05-29T22:59:12.968707Z",
     "shell.execute_reply": "2021-05-29T22:59:12.968120Z",
     "shell.execute_reply.started": "2021-05-28T22:41:27.2841Z"
    },
    "papermill": {
     "duration": 0.101134,
     "end_time": "2021-05-29T22:59:12.968849",
     "exception": false,
     "start_time": "2021-05-29T22:59:12.867715",
     "status": "completed"
    },
    "tags": []
   },
   "outputs": [
    {
     "data": {
      "text/html": [
       "<div>\n",
       "<style scoped>\n",
       "    .dataframe tbody tr th:only-of-type {\n",
       "        vertical-align: middle;\n",
       "    }\n",
       "\n",
       "    .dataframe tbody tr th {\n",
       "        vertical-align: top;\n",
       "    }\n",
       "\n",
       "    .dataframe thead th {\n",
       "        text-align: right;\n",
       "    }\n",
       "</style>\n",
       "<table border=\"1\" class=\"dataframe\">\n",
       "  <thead>\n",
       "    <tr style=\"text-align: right;\">\n",
       "      <th></th>\n",
       "      <th>Age</th>\n",
       "      <th>SibSp</th>\n",
       "      <th>Parch</th>\n",
       "      <th>Fare</th>\n",
       "    </tr>\n",
       "  </thead>\n",
       "  <tbody>\n",
       "    <tr>\n",
       "      <th>count</th>\n",
       "      <td>714.000</td>\n",
       "      <td>891.000</td>\n",
       "      <td>891.000</td>\n",
       "      <td>891.000</td>\n",
       "    </tr>\n",
       "    <tr>\n",
       "      <th>mean</th>\n",
       "      <td>29.699</td>\n",
       "      <td>0.523</td>\n",
       "      <td>0.382</td>\n",
       "      <td>32.204</td>\n",
       "    </tr>\n",
       "    <tr>\n",
       "      <th>std</th>\n",
       "      <td>14.526</td>\n",
       "      <td>1.103</td>\n",
       "      <td>0.806</td>\n",
       "      <td>49.693</td>\n",
       "    </tr>\n",
       "    <tr>\n",
       "      <th>min</th>\n",
       "      <td>0.420</td>\n",
       "      <td>0.000</td>\n",
       "      <td>0.000</td>\n",
       "      <td>0.000</td>\n",
       "    </tr>\n",
       "    <tr>\n",
       "      <th>25%</th>\n",
       "      <td>20.125</td>\n",
       "      <td>0.000</td>\n",
       "      <td>0.000</td>\n",
       "      <td>7.910</td>\n",
       "    </tr>\n",
       "    <tr>\n",
       "      <th>50%</th>\n",
       "      <td>28.000</td>\n",
       "      <td>0.000</td>\n",
       "      <td>0.000</td>\n",
       "      <td>14.454</td>\n",
       "    </tr>\n",
       "    <tr>\n",
       "      <th>75%</th>\n",
       "      <td>38.000</td>\n",
       "      <td>1.000</td>\n",
       "      <td>0.000</td>\n",
       "      <td>31.000</td>\n",
       "    </tr>\n",
       "    <tr>\n",
       "      <th>max</th>\n",
       "      <td>80.000</td>\n",
       "      <td>8.000</td>\n",
       "      <td>6.000</td>\n",
       "      <td>512.329</td>\n",
       "    </tr>\n",
       "  </tbody>\n",
       "</table>\n",
       "</div>"
      ],
      "text/plain": [
       "           Age    SibSp    Parch     Fare\n",
       "count  714.000  891.000  891.000  891.000\n",
       "mean    29.699    0.523    0.382   32.204\n",
       "std     14.526    1.103    0.806   49.693\n",
       "min      0.420    0.000    0.000    0.000\n",
       "25%     20.125    0.000    0.000    7.910\n",
       "50%     28.000    0.000    0.000   14.454\n",
       "75%     38.000    1.000    0.000   31.000\n",
       "max     80.000    8.000    6.000  512.329"
      ]
     },
     "execution_count": 6,
     "metadata": {},
     "output_type": "execute_result"
    }
   ],
   "source": [
    "# look at descriptive statistics for numerical features\n",
    "np.round(titanic.describe(),3)"
   ]
  },
  {
   "cell_type": "markdown",
   "id": "young-manufacturer",
   "metadata": {
    "papermill": {
     "duration": 0.062908,
     "end_time": "2021-05-29T22:59:13.093958",
     "exception": false,
     "start_time": "2021-05-29T22:59:13.031050",
     "status": "completed"
    },
    "tags": []
   },
   "source": [
    "### 1.2 Overall survival rate\n",
    "- First I'll look at the overall number of people that survived vs. died\n",
    "- Then I'll look at a few countplots which demonstrate the number of people who survived/died with detail of a few features"
   ]
  },
  {
   "cell_type": "code",
   "execution_count": 7,
   "id": "raised-stress",
   "metadata": {
    "execution": {
     "iopub.execute_input": "2021-05-29T22:59:13.225770Z",
     "iopub.status.busy": "2021-05-29T22:59:13.225110Z",
     "iopub.status.idle": "2021-05-29T22:59:13.229030Z",
     "shell.execute_reply": "2021-05-29T22:59:13.228293Z",
     "shell.execute_reply.started": "2021-05-28T22:41:27.32659Z"
    },
    "papermill": {
     "duration": 0.073997,
     "end_time": "2021-05-29T22:59:13.229169",
     "exception": false,
     "start_time": "2021-05-29T22:59:13.155172",
     "status": "completed"
    },
    "tags": []
   },
   "outputs": [
    {
     "data": {
      "text/plain": [
       "False    549\n",
       "True     342\n",
       "Name: Survived, dtype: int64"
      ]
     },
     "execution_count": 7,
     "metadata": {},
     "output_type": "execute_result"
    }
   ],
   "source": [
    "# total number of people who survived vs. died\n",
    "titanic['Survived'].value_counts()"
   ]
  },
  {
   "cell_type": "code",
   "execution_count": 8,
   "id": "north-blind",
   "metadata": {
    "execution": {
     "iopub.execute_input": "2021-05-29T22:59:13.357199Z",
     "iopub.status.busy": "2021-05-29T22:59:13.356369Z",
     "iopub.status.idle": "2021-05-29T22:59:14.466289Z",
     "shell.execute_reply": "2021-05-29T22:59:14.465571Z",
     "shell.execute_reply.started": "2021-05-28T22:41:27.339949Z"
    },
    "papermill": {
     "duration": 1.175551,
     "end_time": "2021-05-29T22:59:14.466436",
     "exception": false,
     "start_time": "2021-05-29T22:59:13.290885",
     "status": "completed"
    },
    "tags": []
   },
   "outputs": [
    {
     "data": {
      "image/png": "[encoded data removed]",
      "text/plain": [
       "<Figure size 1400x1200 with 6 Axes>"
      ]
     },
     "metadata": {
      "needs_background": "light"
     },
     "output_type": "display_data"
    }
   ],
   "source": [
    "# features to plot in the count plots\n",
    "attributes = ['Survived', 'Sex', 'Pclass', 'Embarked', 'SibSp', 'Parch']\n",
    "\n",
    "# plot countplots \n",
    "plt.figure(figsize=(14, 12), dpi=100)\n",
    "for i, feature in enumerate(attributes):\n",
    "    plt.subplot(3, 3, i+1)\n",
    "    sns.countplot(data=titanic, x=feature, hue='Survived')\n",
    "    \n",
    "sns.despine()"
   ]
  },
  {
   "cell_type": "markdown",
   "id": "solar-start",
   "metadata": {
    "papermill": {
     "duration": 0.064723,
     "end_time": "2021-05-29T22:59:14.594849",
     "exception": false,
     "start_time": "2021-05-29T22:59:14.530126",
     "status": "completed"
    },
    "tags": []
   },
   "source": [
    "### 1.3 Survival rate: gender and passenger class\n",
    "- Below, I look at survival by gender and further split by passenger class\n",
    "- Immediately, it's important to notice that on average, females have a much higher survival rate compared to males, especially in classes 1 & 2."
   ]
  },
  {
   "cell_type": "code",
   "execution_count": 9,
   "id": "furnished-loading",
   "metadata": {
    "execution": {
     "iopub.execute_input": "2021-05-29T22:59:14.732232Z",
     "iopub.status.busy": "2021-05-29T22:59:14.731137Z",
     "iopub.status.idle": "2021-05-29T22:59:14.761776Z",
     "shell.execute_reply": "2021-05-29T22:59:14.761166Z",
     "shell.execute_reply.started": "2021-05-28T22:41:28.550862Z"
    },
    "papermill": {
     "duration": 0.104406,
     "end_time": "2021-05-29T22:59:14.761920",
     "exception": false,
     "start_time": "2021-05-29T22:59:14.657514",
     "status": "completed"
    },
    "tags": []
   },
   "outputs": [
    {
     "data": {
      "text/html": [
       "<div>\n",
       "<style scoped>\n",
       "    .dataframe tbody tr th:only-of-type {\n",
       "        vertical-align: middle;\n",
       "    }\n",
       "\n",
       "    .dataframe tbody tr th {\n",
       "        vertical-align: top;\n",
       "    }\n",
       "\n",
       "    .dataframe thead tr th {\n",
       "        text-align: left;\n",
       "    }\n",
       "\n",
       "    .dataframe thead tr:last-of-type th {\n",
       "        text-align: right;\n",
       "    }\n",
       "</style>\n",
       "<table border=\"1\" class=\"dataframe\">\n",
       "  <thead>\n",
       "    <tr>\n",
       "      <th></th>\n",
       "      <th colspan=\"3\" halign=\"left\">Survived</th>\n",
       "    </tr>\n",
       "    <tr>\n",
       "      <th>Pclass</th>\n",
       "      <th>1</th>\n",
       "      <th>2</th>\n",
       "      <th>3</th>\n",
       "    </tr>\n",
       "    <tr>\n",
       "      <th>Sex</th>\n",
       "      <th></th>\n",
       "      <th></th>\n",
       "      <th></th>\n",
       "    </tr>\n",
       "  </thead>\n",
       "  <tbody>\n",
       "    <tr>\n",
       "      <th>female</th>\n",
       "      <td>0.968</td>\n",
       "      <td>0.921</td>\n",
       "      <td>0.500</td>\n",
       "    </tr>\n",
       "    <tr>\n",
       "      <th>male</th>\n",
       "      <td>0.369</td>\n",
       "      <td>0.157</td>\n",
       "      <td>0.135</td>\n",
       "    </tr>\n",
       "  </tbody>\n",
       "</table>\n",
       "</div>"
      ],
      "text/plain": [
       "       Survived              \n",
       "Pclass        1      2      3\n",
       "Sex                          \n",
       "female    0.968  0.921  0.500\n",
       "male      0.369  0.157  0.135"
      ]
     },
     "execution_count": 9,
     "metadata": {},
     "output_type": "execute_result"
    }
   ],
   "source": [
    "# pivot table that shows mean % of survival for each pclass split by gender\n",
    "np.round(titanic.pivot_table(values=['Survived'], index=['Sex'], columns=['Pclass'], aggfunc=np.mean), 3)"
   ]
  },
  {
   "cell_type": "markdown",
   "id": "continent-cement",
   "metadata": {
    "papermill": {
     "duration": 0.067877,
     "end_time": "2021-05-29T22:59:14.893745",
     "exception": false,
     "start_time": "2021-05-29T22:59:14.825868",
     "status": "completed"
    },
    "tags": []
   },
   "source": [
    "### 1.4 Survival rate: gender and port of embarkation\n",
    "- Below, I look at survival by gender and further split by port of embarkation\n",
    "- Similar to section 1.3, it looks like on average women have a higher survival rate, especially for those who departed from Cherbourg."
   ]
  },
  {
   "cell_type": "code",
   "execution_count": 10,
   "id": "cultural-alexandria",
   "metadata": {
    "execution": {
     "iopub.execute_input": "2021-05-29T22:59:15.030458Z",
     "iopub.status.busy": "2021-05-29T22:59:15.029799Z",
     "iopub.status.idle": "2021-05-29T22:59:15.056801Z",
     "shell.execute_reply": "2021-05-29T22:59:15.056237Z",
     "shell.execute_reply.started": "2021-05-28T22:41:28.596432Z"
    },
    "papermill": {
     "duration": 0.099039,
     "end_time": "2021-05-29T22:59:15.056940",
     "exception": false,
     "start_time": "2021-05-29T22:59:14.957901",
     "status": "completed"
    },
    "tags": []
   },
   "outputs": [
    {
     "data": {
      "text/html": [
       "<div>\n",
       "<style scoped>\n",
       "    .dataframe tbody tr th:only-of-type {\n",
       "        vertical-align: middle;\n",
       "    }\n",
       "\n",
       "    .dataframe tbody tr th {\n",
       "        vertical-align: top;\n",
       "    }\n",
       "\n",
       "    .dataframe thead tr th {\n",
       "        text-align: left;\n",
       "    }\n",
       "\n",
       "    .dataframe thead tr:last-of-type th {\n",
       "        text-align: right;\n",
       "    }\n",
       "</style>\n",
       "<table border=\"1\" class=\"dataframe\">\n",
       "  <thead>\n",
       "    <tr>\n",
       "      <th></th>\n",
       "      <th colspan=\"3\" halign=\"left\">Survived</th>\n",
       "    </tr>\n",
       "    <tr>\n",
       "      <th>Embarked</th>\n",
       "      <th>C</th>\n",
       "      <th>Q</th>\n",
       "      <th>S</th>\n",
       "    </tr>\n",
       "    <tr>\n",
       "      <th>Sex</th>\n",
       "      <th></th>\n",
       "      <th></th>\n",
       "      <th></th>\n",
       "    </tr>\n",
       "  </thead>\n",
       "  <tbody>\n",
       "    <tr>\n",
       "      <th>female</th>\n",
       "      <td>0.877</td>\n",
       "      <td>0.750</td>\n",
       "      <td>0.690</td>\n",
       "    </tr>\n",
       "    <tr>\n",
       "      <th>male</th>\n",
       "      <td>0.305</td>\n",
       "      <td>0.073</td>\n",
       "      <td>0.175</td>\n",
       "    </tr>\n",
       "  </tbody>\n",
       "</table>\n",
       "</div>"
      ],
      "text/plain": [
       "         Survived              \n",
       "Embarked        C      Q      S\n",
       "Sex                            \n",
       "female      0.877  0.750  0.690\n",
       "male        0.305  0.073  0.175"
      ]
     },
     "execution_count": 10,
     "metadata": {},
     "output_type": "execute_result"
    }
   ],
   "source": [
    "# pivot table that shows mean % of survival for each port of embarkation split by gender\n",
    "np.round(titanic.pivot_table(values=['Survived'], index=['Sex'], columns=['Embarked'], aggfunc=np.mean), 3)"
   ]
  },
  {
   "cell_type": "markdown",
   "id": "vocational-neutral",
   "metadata": {
    "papermill": {
     "duration": 0.062915,
     "end_time": "2021-05-29T22:59:15.184438",
     "exception": false,
     "start_time": "2021-05-29T22:59:15.121523",
     "status": "completed"
    },
    "tags": []
   },
   "source": [
    "### 1.5 New Feature: Age bins\n",
    "- Below, I create a new categorical feature: age bins\n",
    "- More specifically I bin the ages into groups of 10 from 0 to 60, and then the remaining older folks into a group of 60+\n",
    "- Then I look at a pivot table of survival rates for each age bin\n",
    "- Based on the above, a few key conclusions:\n",
    "    - Again, notice that females have a much higher survival rate, in group 7 (ages 50-59) 100% survived\n",
    "    - It looks like for most groups ~80% of men die, besides group 1(ages 0-9).\n",
    "    - It's looking like age is going to be a very strong predictive feature."
   ]
  },
  {
   "cell_type": "code",
   "execution_count": 11,
   "id": "sought-newport",
   "metadata": {
    "execution": {
     "iopub.execute_input": "2021-05-29T22:59:15.321395Z",
     "iopub.status.busy": "2021-05-29T22:59:15.320772Z",
     "iopub.status.idle": "2021-05-29T22:59:15.324393Z",
     "shell.execute_reply": "2021-05-29T22:59:15.323766Z",
     "shell.execute_reply.started": "2021-05-28T22:41:28.635262Z"
    },
    "papermill": {
     "duration": 0.073211,
     "end_time": "2021-05-29T22:59:15.324537",
     "exception": false,
     "start_time": "2021-05-29T22:59:15.251326",
     "status": "completed"
    },
    "tags": []
   },
   "outputs": [],
   "source": [
    "# create new feature: age bins\n",
    "bins = [0., 10., 20., 30., 40., 50., 60., np.inf]\n",
    "titanic['age_cat'] = np.searchsorted(bins, titanic['Age'].values)"
   ]
  },
  {
   "cell_type": "code",
   "execution_count": 12,
   "id": "delayed-senior",
   "metadata": {
    "execution": {
     "iopub.execute_input": "2021-05-29T22:59:15.471063Z",
     "iopub.status.busy": "2021-05-29T22:59:15.461302Z",
     "iopub.status.idle": "2021-05-29T22:59:15.497280Z",
     "shell.execute_reply": "2021-05-29T22:59:15.496659Z",
     "shell.execute_reply.started": "2021-05-28T22:41:28.643733Z"
    },
    "papermill": {
     "duration": 0.108826,
     "end_time": "2021-05-29T22:59:15.497425",
     "exception": false,
     "start_time": "2021-05-29T22:59:15.388599",
     "status": "completed"
    },
    "tags": []
   },
   "outputs": [
    {
     "data": {
      "text/html": [
       "<div>\n",
       "<style scoped>\n",
       "    .dataframe tbody tr th:only-of-type {\n",
       "        vertical-align: middle;\n",
       "    }\n",
       "\n",
       "    .dataframe tbody tr th {\n",
       "        vertical-align: top;\n",
       "    }\n",
       "\n",
       "    .dataframe thead tr th {\n",
       "        text-align: left;\n",
       "    }\n",
       "\n",
       "    .dataframe thead tr:last-of-type th {\n",
       "        text-align: right;\n",
       "    }\n",
       "</style>\n",
       "<table border=\"1\" class=\"dataframe\">\n",
       "  <thead>\n",
       "    <tr>\n",
       "      <th></th>\n",
       "      <th colspan=\"8\" halign=\"left\">Survived</th>\n",
       "    </tr>\n",
       "    <tr>\n",
       "      <th>age_cat</th>\n",
       "      <th>1</th>\n",
       "      <th>2</th>\n",
       "      <th>3</th>\n",
       "      <th>4</th>\n",
       "      <th>5</th>\n",
       "      <th>6</th>\n",
       "      <th>7</th>\n",
       "      <th>8</th>\n",
       "    </tr>\n",
       "    <tr>\n",
       "      <th>Sex</th>\n",
       "      <th></th>\n",
       "      <th></th>\n",
       "      <th></th>\n",
       "      <th></th>\n",
       "      <th></th>\n",
       "      <th></th>\n",
       "      <th></th>\n",
       "      <th></th>\n",
       "    </tr>\n",
       "  </thead>\n",
       "  <tbody>\n",
       "    <tr>\n",
       "      <th>female</th>\n",
       "      <td>0.613</td>\n",
       "      <td>0.739</td>\n",
       "      <td>0.753</td>\n",
       "      <td>0.836</td>\n",
       "      <td>0.677</td>\n",
       "      <td>0.929</td>\n",
       "      <td>1.000</td>\n",
       "      <td>0.679</td>\n",
       "    </tr>\n",
       "    <tr>\n",
       "      <th>male</th>\n",
       "      <td>0.576</td>\n",
       "      <td>0.145</td>\n",
       "      <td>0.154</td>\n",
       "      <td>0.230</td>\n",
       "      <td>0.218</td>\n",
       "      <td>0.143</td>\n",
       "      <td>0.105</td>\n",
       "      <td>0.129</td>\n",
       "    </tr>\n",
       "  </tbody>\n",
       "</table>\n",
       "</div>"
      ],
      "text/plain": [
       "        Survived                                                 \n",
       "age_cat        1      2      3      4      5      6      7      8\n",
       "Sex                                                              \n",
       "female     0.613  0.739  0.753  0.836  0.677  0.929  1.000  0.679\n",
       "male       0.576  0.145  0.154  0.230  0.218  0.143  0.105  0.129"
      ]
     },
     "execution_count": 12,
     "metadata": {},
     "output_type": "execute_result"
    }
   ],
   "source": [
    "# pivot table that shows mean % of survival for each pclass split by gender\n",
    "np.round(titanic.pivot_table(values=['Survived'], index=['Sex'], columns=['age_cat'], aggfunc=np.mean), 3)"
   ]
  },
  {
   "cell_type": "markdown",
   "id": "excess-russian",
   "metadata": {
    "papermill": {
     "duration": 0.06321,
     "end_time": "2021-05-29T22:59:15.625865",
     "exception": false,
     "start_time": "2021-05-29T22:59:15.562655",
     "status": "completed"
    },
    "tags": []
   },
   "source": [
    "### 1.6 New Feature: Title\n",
    "- Below, I create a new categorical feature: title.\n",
    "- This was extracted from each passengers name.\n",
    "- Some examples would be 'Mr', 'Mrs.', etc.\n",
    "- A key conclusion is that those with titles 'Mrs', 'Miss', and 'Master' had higher survival rates that 'Mr'."
   ]
  },
  {
   "cell_type": "code",
   "execution_count": 13,
   "id": "worldwide-exhibition",
   "metadata": {
    "execution": {
     "iopub.execute_input": "2021-05-29T22:59:15.760909Z",
     "iopub.status.busy": "2021-05-29T22:59:15.760055Z",
     "iopub.status.idle": "2021-05-29T22:59:15.763705Z",
     "shell.execute_reply": "2021-05-29T22:59:15.764216Z",
     "shell.execute_reply.started": "2021-05-28T22:41:28.697556Z"
    },
    "papermill": {
     "duration": 0.074669,
     "end_time": "2021-05-29T22:59:15.764387",
     "exception": false,
     "start_time": "2021-05-29T22:59:15.689718",
     "status": "completed"
    },
    "tags": []
   },
   "outputs": [
    {
     "data": {
      "text/plain": [
       "PassengerId\n",
       "1                              Braund, Mr. Owen Harris\n",
       "2    Cumings, Mrs. John Bradley (Florence Briggs Th...\n",
       "3                               Heikkinen, Miss. Laina\n",
       "4         Futrelle, Mrs. Jacques Heath (Lily May Peel)\n",
       "5                             Allen, Mr. William Henry\n",
       "Name: Name, dtype: category\n",
       "Categories (891, object): ['Abbing, Mr. Anthony', 'Abbott, Mr. Rossmore Edward', 'Abbott, Mrs. Stanton (Rosa Hunt)', 'Abelson, Mr. Samuel', ..., 'de Pelsmaeker, Mr. Alfons', 'del Carlo, Mr. Sebastiano', 'van Billiard, Mr. Austin Blyler', 'van Melkebeke, Mr. Philemon']"
      ]
     },
     "execution_count": 13,
     "metadata": {},
     "output_type": "execute_result"
    }
   ],
   "source": [
    "# look at first 5 names to identify pattern in strings\n",
    "titanic['Name'].iloc[0:5]"
   ]
  },
  {
   "cell_type": "code",
   "execution_count": 14,
   "id": "prospective-columbus",
   "metadata": {
    "execution": {
     "iopub.execute_input": "2021-05-29T22:59:15.903467Z",
     "iopub.status.busy": "2021-05-29T22:59:15.902824Z",
     "iopub.status.idle": "2021-05-29T22:59:15.907168Z",
     "shell.execute_reply": "2021-05-29T22:59:15.907610Z",
     "shell.execute_reply.started": "2021-05-28T22:41:28.710144Z"
    },
    "papermill": {
     "duration": 0.078565,
     "end_time": "2021-05-29T22:59:15.907806",
     "exception": false,
     "start_time": "2021-05-29T22:59:15.829241",
     "status": "completed"
    },
    "tags": []
   },
   "outputs": [],
   "source": [
    "# crate function to extract a passengers title from name feature\n",
    "def get_title(name):\n",
    "    return re.split(',|\\.', name)[1].strip()\n",
    "\n",
    "# create new title feature\n",
    "titanic['title'] = titanic['Name'].apply(get_title)"
   ]
  },
  {
   "cell_type": "code",
   "execution_count": 15,
   "id": "radio-productivity",
   "metadata": {
    "execution": {
     "iopub.execute_input": "2021-05-29T22:59:16.053134Z",
     "iopub.status.busy": "2021-05-29T22:59:16.052444Z",
     "iopub.status.idle": "2021-05-29T22:59:16.056517Z",
     "shell.execute_reply": "2021-05-29T22:59:16.055924Z",
     "shell.execute_reply.started": "2021-05-28T22:41:28.725234Z"
    },
    "papermill": {
     "duration": 0.084732,
     "end_time": "2021-05-29T22:59:16.056672",
     "exception": false,
     "start_time": "2021-05-29T22:59:15.971940",
     "status": "completed"
    },
    "tags": []
   },
   "outputs": [
    {
     "data": {
      "text/html": [
       "<div>\n",
       "<style scoped>\n",
       "    .dataframe tbody tr th:only-of-type {\n",
       "        vertical-align: middle;\n",
       "    }\n",
       "\n",
       "    .dataframe tbody tr th {\n",
       "        vertical-align: top;\n",
       "    }\n",
       "\n",
       "    .dataframe thead th {\n",
       "        text-align: right;\n",
       "    }\n",
       "</style>\n",
       "<table border=\"1\" class=\"dataframe\">\n",
       "  <thead>\n",
       "    <tr style=\"text-align: right;\">\n",
       "      <th></th>\n",
       "      <th>count</th>\n",
       "      <th>mean</th>\n",
       "    </tr>\n",
       "    <tr>\n",
       "      <th>title</th>\n",
       "      <th></th>\n",
       "      <th></th>\n",
       "    </tr>\n",
       "  </thead>\n",
       "  <tbody>\n",
       "    <tr>\n",
       "      <th>the Countess</th>\n",
       "      <td>1</td>\n",
       "      <td>1.000000</td>\n",
       "    </tr>\n",
       "    <tr>\n",
       "      <th>Mlle</th>\n",
       "      <td>2</td>\n",
       "      <td>1.000000</td>\n",
       "    </tr>\n",
       "    <tr>\n",
       "      <th>Sir</th>\n",
       "      <td>1</td>\n",
       "      <td>1.000000</td>\n",
       "    </tr>\n",
       "    <tr>\n",
       "      <th>Ms</th>\n",
       "      <td>1</td>\n",
       "      <td>1.000000</td>\n",
       "    </tr>\n",
       "    <tr>\n",
       "      <th>Lady</th>\n",
       "      <td>1</td>\n",
       "      <td>1.000000</td>\n",
       "    </tr>\n",
       "    <tr>\n",
       "      <th>Mme</th>\n",
       "      <td>1</td>\n",
       "      <td>1.000000</td>\n",
       "    </tr>\n",
       "    <tr>\n",
       "      <th>Mrs</th>\n",
       "      <td>125</td>\n",
       "      <td>0.792000</td>\n",
       "    </tr>\n",
       "    <tr>\n",
       "      <th>Miss</th>\n",
       "      <td>182</td>\n",
       "      <td>0.697802</td>\n",
       "    </tr>\n",
       "    <tr>\n",
       "      <th>Master</th>\n",
       "      <td>40</td>\n",
       "      <td>0.575000</td>\n",
       "    </tr>\n",
       "    <tr>\n",
       "      <th>Col</th>\n",
       "      <td>2</td>\n",
       "      <td>0.500000</td>\n",
       "    </tr>\n",
       "    <tr>\n",
       "      <th>Major</th>\n",
       "      <td>2</td>\n",
       "      <td>0.500000</td>\n",
       "    </tr>\n",
       "    <tr>\n",
       "      <th>Dr</th>\n",
       "      <td>7</td>\n",
       "      <td>0.428571</td>\n",
       "    </tr>\n",
       "    <tr>\n",
       "      <th>Mr</th>\n",
       "      <td>517</td>\n",
       "      <td>0.156673</td>\n",
       "    </tr>\n",
       "    <tr>\n",
       "      <th>Jonkheer</th>\n",
       "      <td>1</td>\n",
       "      <td>0.000000</td>\n",
       "    </tr>\n",
       "    <tr>\n",
       "      <th>Rev</th>\n",
       "      <td>6</td>\n",
       "      <td>0.000000</td>\n",
       "    </tr>\n",
       "    <tr>\n",
       "      <th>Don</th>\n",
       "      <td>1</td>\n",
       "      <td>0.000000</td>\n",
       "    </tr>\n",
       "    <tr>\n",
       "      <th>Capt</th>\n",
       "      <td>1</td>\n",
       "      <td>0.000000</td>\n",
       "    </tr>\n",
       "  </tbody>\n",
       "</table>\n",
       "</div>"
      ],
      "text/plain": [
       "              count      mean\n",
       "title                        \n",
       "the Countess      1  1.000000\n",
       "Mlle              2  1.000000\n",
       "Sir               1  1.000000\n",
       "Ms                1  1.000000\n",
       "Lady              1  1.000000\n",
       "Mme               1  1.000000\n",
       "Mrs             125  0.792000\n",
       "Miss            182  0.697802\n",
       "Master           40  0.575000\n",
       "Col               2  0.500000\n",
       "Major             2  0.500000\n",
       "Dr                7  0.428571\n",
       "Mr              517  0.156673\n",
       "Jonkheer          1  0.000000\n",
       "Rev               6  0.000000\n",
       "Don               1  0.000000\n",
       "Capt              1  0.000000"
      ]
     },
     "execution_count": 15,
     "metadata": {},
     "output_type": "execute_result"
    }
   ],
   "source": [
    "# create dataframe that shows titles along with counts and mean survival rate\n",
    "titles = titanic.groupby('title').agg({'Survived': ['count', 'mean']})\n",
    "\n",
    "# drop top level of multi-layer index from above\n",
    "titles.columns = titles.columns.droplevel()\n",
    "\n",
    "# sort data frame by mean survival rate from highest to lowest\n",
    "titles.sort_values('mean', ascending=False)"
   ]
  },
  {
   "cell_type": "markdown",
   "id": "international-allergy",
   "metadata": {
    "papermill": {
     "duration": 0.065696,
     "end_time": "2021-05-29T22:59:16.188660",
     "exception": false,
     "start_time": "2021-05-29T22:59:16.122964",
     "status": "completed"
    },
    "tags": []
   },
   "source": [
    "It looks like there are several titles where there are only 1 - 10 passengers with the title.  I'll group these into one category called 'other' to reduce cardinality."
   ]
  },
  {
   "cell_type": "code",
   "execution_count": 16,
   "id": "biblical-version",
   "metadata": {
    "execution": {
     "iopub.execute_input": "2021-05-29T22:59:16.324787Z",
     "iopub.status.busy": "2021-05-29T22:59:16.324110Z",
     "iopub.status.idle": "2021-05-29T22:59:16.332118Z",
     "shell.execute_reply": "2021-05-29T22:59:16.331563Z",
     "shell.execute_reply.started": "2021-05-28T22:41:28.752064Z"
    },
    "papermill": {
     "duration": 0.076373,
     "end_time": "2021-05-29T22:59:16.332262",
     "exception": false,
     "start_time": "2021-05-29T22:59:16.255889",
     "status": "completed"
    },
    "tags": []
   },
   "outputs": [],
   "source": [
    "# list of titles to replace with 'other'\n",
    "uncommon_titles = (['Don', 'Rev', 'Dr', 'Mme', 'Ms', 'Major', \n",
    "                    'Lady', 'Sir', 'Mlle', 'Col', 'Capt', \n",
    "                    'the Countess', 'Jonkheer'])\n",
    "\n",
    "# replace uncommon titles with 'other'\n",
    "titanic['title'] = titanic['title'].replace(uncommon_titles, 'other')"
   ]
  },
  {
   "cell_type": "code",
   "execution_count": 17,
   "id": "violent-numbers",
   "metadata": {
    "execution": {
     "iopub.execute_input": "2021-05-29T22:59:16.474353Z",
     "iopub.status.busy": "2021-05-29T22:59:16.473692Z",
     "iopub.status.idle": "2021-05-29T22:59:16.822678Z",
     "shell.execute_reply": "2021-05-29T22:59:16.823159Z",
     "shell.execute_reply.started": "2021-05-28T22:41:28.765922Z"
    },
    "papermill": {
     "duration": 0.426248,
     "end_time": "2021-05-29T22:59:16.823340",
     "exception": false,
     "start_time": "2021-05-29T22:59:16.397092",
     "status": "completed"
    },
    "tags": []
   },
   "outputs": [
    {
     "data": {
      "image/png": "[encoded data removed]",
      "text/plain": [
       "<Figure size 565.25x504 with 1 Axes>"
      ]
     },
     "metadata": {
      "needs_background": "light"
     },
     "output_type": "display_data"
    }
   ],
   "source": [
    "# count plot of titles showing portion of those that died\n",
    "sns.catplot(x='title', kind='count', hue='Survived', data=titanic, height=7)\n",
    "plt.tick_params(labelsize=12)\n",
    "plt.ylabel('Count', fontsize=14)\n",
    "plt.xlabel('Title', fontsize=14)\n",
    "plt.title('Survival by Title', fontdict={'fontsize':16});"
   ]
  },
  {
   "cell_type": "markdown",
   "id": "horizontal-scenario",
   "metadata": {
    "papermill": {
     "duration": 0.065332,
     "end_time": "2021-05-29T22:59:16.956277",
     "exception": false,
     "start_time": "2021-05-29T22:59:16.890945",
     "status": "completed"
    },
    "tags": []
   },
   "source": [
    "### 1.7 New Feature: Total family size\n",
    "- Below, I create a new categorical feature: total family size\n",
    "- This feature is a combination of the features sibsp (siblings/spouse) and parch (parents/children)\n",
    "- A family size of 0 means that a passenger was alone on the ride\n",
    "- It looks like survival rates were higher for families of size 1, 2, 3."
   ]
  },
  {
   "cell_type": "code",
   "execution_count": 18,
   "id": "danish-musician",
   "metadata": {
    "execution": {
     "iopub.execute_input": "2021-05-29T22:59:17.092156Z",
     "iopub.status.busy": "2021-05-29T22:59:17.091457Z",
     "iopub.status.idle": "2021-05-29T22:59:17.096180Z",
     "shell.execute_reply": "2021-05-29T22:59:17.096705Z",
     "shell.execute_reply.started": "2021-05-28T22:41:29.140437Z"
    },
    "papermill": {
     "duration": 0.074527,
     "end_time": "2021-05-29T22:59:17.096883",
     "exception": false,
     "start_time": "2021-05-29T22:59:17.022356",
     "status": "completed"
    },
    "tags": []
   },
   "outputs": [],
   "source": [
    "# create new feature: family size\n",
    "titanic['fam_size'] = titanic['SibSp'] + titanic['Parch']"
   ]
  },
  {
   "cell_type": "code",
   "execution_count": 19,
   "id": "super-composite",
   "metadata": {
    "execution": {
     "iopub.execute_input": "2021-05-29T22:59:17.233994Z",
     "iopub.status.busy": "2021-05-29T22:59:17.233005Z",
     "iopub.status.idle": "2021-05-29T22:59:17.668229Z",
     "shell.execute_reply": "2021-05-29T22:59:17.668767Z",
     "shell.execute_reply.started": "2021-05-28T22:41:29.148475Z"
    },
    "papermill": {
     "duration": 0.506021,
     "end_time": "2021-05-29T22:59:17.668941",
     "exception": false,
     "start_time": "2021-05-29T22:59:17.162920",
     "status": "completed"
    },
    "tags": []
   },
   "outputs": [
    {
     "data": {
      "image/png": "[encoded data removed]",
      "text/plain": [
       "<Figure size 637.25x576 with 1 Axes>"
      ]
     },
     "metadata": {
      "needs_background": "light"
     },
     "output_type": "display_data"
    }
   ],
   "source": [
    "# count plot of family sizes showing portion of those that died\n",
    "sns.catplot(x='fam_size', kind='count', hue='Survived', data=titanic, height=8)\n",
    "plt.tick_params(labelsize=12)\n",
    "plt.ylabel('Count', fontsize=14)\n",
    "plt.xlabel('Family Size', fontsize=14)\n",
    "plt.title('Survival by Family Size', fontdict={'fontsize':16});"
   ]
  },
  {
   "cell_type": "markdown",
   "id": "subjective-banana",
   "metadata": {
    "papermill": {
     "duration": 0.066512,
     "end_time": "2021-05-29T22:59:17.802689",
     "exception": false,
     "start_time": "2021-05-29T22:59:17.736177",
     "status": "completed"
    },
    "tags": []
   },
   "source": [
    "### 1.8 New Feature: Deck\n",
    "- Lastly, I create one more new categorical feature: deck\n",
    "- I derived this from the cabin column by taking just the deck letter (e.g. Deck A, B... and so on)."
   ]
  },
  {
   "cell_type": "code",
   "execution_count": 20,
   "id": "blessed-drinking",
   "metadata": {
    "execution": {
     "iopub.execute_input": "2021-05-29T22:59:17.940971Z",
     "iopub.status.busy": "2021-05-29T22:59:17.939694Z",
     "iopub.status.idle": "2021-05-29T22:59:17.946410Z",
     "shell.execute_reply": "2021-05-29T22:59:17.946929Z",
     "shell.execute_reply.started": "2021-05-28T22:41:29.612155Z"
    },
    "papermill": {
     "duration": 0.077983,
     "end_time": "2021-05-29T22:59:17.947098",
     "exception": false,
     "start_time": "2021-05-29T22:59:17.869115",
     "status": "completed"
    },
    "tags": []
   },
   "outputs": [],
   "source": [
    "# create new feature: deck\n",
    "titanic['deck'] = titanic['Cabin'].apply(lambda x: x[0])"
   ]
  },
  {
   "cell_type": "code",
   "execution_count": 21,
   "id": "valuable-madrid",
   "metadata": {
    "execution": {
     "iopub.execute_input": "2021-05-29T22:59:18.084233Z",
     "iopub.status.busy": "2021-05-29T22:59:18.083275Z",
     "iopub.status.idle": "2021-05-29T22:59:18.491507Z",
     "shell.execute_reply": "2021-05-29T22:59:18.491993Z",
     "shell.execute_reply.started": "2021-05-28T22:41:29.620613Z"
    },
    "papermill": {
     "duration": 0.478929,
     "end_time": "2021-05-29T22:59:18.492173",
     "exception": false,
     "start_time": "2021-05-29T22:59:18.013244",
     "status": "completed"
    },
    "tags": []
   },
   "outputs": [
    {
     "data": {
      "image/png": "[encoded data removed]",
      "text/plain": [
       "<Figure size 565.25x504 with 1 Axes>"
      ]
     },
     "metadata": {
      "needs_background": "light"
     },
     "output_type": "display_data"
    }
   ],
   "source": [
    "# plot countplot of those who survived vs. died for each deck\n",
    "sns.catplot(y='deck', hue='Survived', kind='count', data=titanic, \n",
    "            order=['A', 'B', 'C', 'D', 'E', 'F', 'G', 'T'], height=7)\n",
    "plt.tick_params(labelsize=12)\n",
    "plt.ylabel('Deck', fontsize=14)\n",
    "plt.xlabel('Count', fontsize=14)\n",
    "plt.title('Survival by Deck', fontdict={'fontsize':16});"
   ]
  },
  {
   "cell_type": "markdown",
   "id": "comparable-positive",
   "metadata": {
    "papermill": {
     "duration": 0.066961,
     "end_time": "2021-05-29T22:59:18.627742",
     "exception": false,
     "start_time": "2021-05-29T22:59:18.560781",
     "status": "completed"
    },
    "tags": []
   },
   "source": [
    "### 1.9 Missing Data\n",
    "- Finally, I look at what missing data we have, and decide what to do with each category where there are missing data."
   ]
  },
  {
   "cell_type": "markdown",
   "id": "portuguese-lecture",
   "metadata": {
    "papermill": {
     "duration": 0.066308,
     "end_time": "2021-05-29T22:59:18.761543",
     "exception": false,
     "start_time": "2021-05-29T22:59:18.695235",
     "status": "completed"
    },
    "tags": []
   },
   "source": [
    "#### 1.9.1 Missing Data - Create summary\n",
    "- First I created a DataFrame that contains the categories of missing data\n",
    "- There are two columns, one for the total number of missing datapoints, and one for the total % of missing data in terms of the respective feature."
   ]
  },
  {
   "cell_type": "code",
   "execution_count": 22,
   "id": "civil-incidence",
   "metadata": {
    "execution": {
     "iopub.execute_input": "2021-05-29T22:59:18.900355Z",
     "iopub.status.busy": "2021-05-29T22:59:18.899384Z",
     "iopub.status.idle": "2021-05-29T22:59:18.916079Z",
     "shell.execute_reply": "2021-05-29T22:59:18.915408Z",
     "shell.execute_reply.started": "2021-05-28T22:41:30.050318Z"
    },
    "papermill": {
     "duration": 0.086983,
     "end_time": "2021-05-29T22:59:18.916219",
     "exception": false,
     "start_time": "2021-05-29T22:59:18.829236",
     "status": "completed"
    },
    "tags": []
   },
   "outputs": [
    {
     "data": {
      "text/html": [
       "<div>\n",
       "<style scoped>\n",
       "    .dataframe tbody tr th:only-of-type {\n",
       "        vertical-align: middle;\n",
       "    }\n",
       "\n",
       "    .dataframe tbody tr th {\n",
       "        vertical-align: top;\n",
       "    }\n",
       "\n",
       "    .dataframe thead th {\n",
       "        text-align: right;\n",
       "    }\n",
       "</style>\n",
       "<table border=\"1\" class=\"dataframe\">\n",
       "  <thead>\n",
       "    <tr style=\"text-align: right;\">\n",
       "      <th></th>\n",
       "      <th>total_missing</th>\n",
       "      <th>missing_pct</th>\n",
       "    </tr>\n",
       "  </thead>\n",
       "  <tbody>\n",
       "    <tr>\n",
       "      <th>Cabin</th>\n",
       "      <td>687</td>\n",
       "      <td>0.771</td>\n",
       "    </tr>\n",
       "    <tr>\n",
       "      <th>deck</th>\n",
       "      <td>687</td>\n",
       "      <td>0.771</td>\n",
       "    </tr>\n",
       "    <tr>\n",
       "      <th>Age</th>\n",
       "      <td>177</td>\n",
       "      <td>0.199</td>\n",
       "    </tr>\n",
       "    <tr>\n",
       "      <th>Embarked</th>\n",
       "      <td>2</td>\n",
       "      <td>0.002</td>\n",
       "    </tr>\n",
       "  </tbody>\n",
       "</table>\n",
       "</div>"
      ],
      "text/plain": [
       "          total_missing  missing_pct\n",
       "Cabin               687        0.771\n",
       "deck                687        0.771\n",
       "Age                 177        0.199\n",
       "Embarked              2        0.002"
      ]
     },
     "execution_count": 22,
     "metadata": {},
     "output_type": "execute_result"
    }
   ],
   "source": [
    "# create DataFrame that contains missing values\n",
    "missing = titanic.isnull().sum().sort_values(ascending=False) \n",
    "missing = missing[missing > 0]\n",
    "missing = pd.DataFrame(missing, columns=['total_missing'])\n",
    "\n",
    "# create column in missing DataFrame that shows total % of missing data\n",
    "missing['missing_pct'] = np.round(missing['total_missing'] / len(titanic), 3)\n",
    "missing"
   ]
  },
  {
   "cell_type": "markdown",
   "id": "chemical-tampa",
   "metadata": {
    "papermill": {
     "duration": 0.067123,
     "end_time": "2021-05-29T22:59:19.051145",
     "exception": false,
     "start_time": "2021-05-29T22:59:18.984022",
     "status": "completed"
    },
    "tags": []
   },
   "source": [
    "#### 1.9.2: Missing Data: Cabin (and Deck)\n",
    "- First I'll look at the missing data in the Cabin feature\n",
    "- Note: I created the 'deck' feature previously in section 1.8.  This contains the same information as the Cabin feature, except simplified in the sense that the 'deck' feature is what deck a passenger was on (A - T), wheras the Cabin feature was a passengers deck and room number."
   ]
  },
  {
   "cell_type": "code",
   "execution_count": 23,
   "id": "blond-capture",
   "metadata": {
    "execution": {
     "iopub.execute_input": "2021-05-29T22:59:19.200886Z",
     "iopub.status.busy": "2021-05-29T22:59:19.199035Z",
     "iopub.status.idle": "2021-05-29T22:59:19.223891Z",
     "shell.execute_reply": "2021-05-29T22:59:19.223304Z",
     "shell.execute_reply.started": "2021-05-28T22:41:30.079595Z"
    },
    "papermill": {
     "duration": 0.104776,
     "end_time": "2021-05-29T22:59:19.224051",
     "exception": false,
     "start_time": "2021-05-29T22:59:19.119275",
     "status": "completed"
    },
    "tags": []
   },
   "outputs": [
    {
     "data": {
      "text/html": [
       "<div>\n",
       "<style scoped>\n",
       "    .dataframe tbody tr th:only-of-type {\n",
       "        vertical-align: middle;\n",
       "    }\n",
       "\n",
       "    .dataframe tbody tr th {\n",
       "        vertical-align: top;\n",
       "    }\n",
       "\n",
       "    .dataframe thead tr th {\n",
       "        text-align: left;\n",
       "    }\n",
       "\n",
       "    .dataframe thead tr:last-of-type th {\n",
       "        text-align: right;\n",
       "    }\n",
       "</style>\n",
       "<table border=\"1\" class=\"dataframe\">\n",
       "  <thead>\n",
       "    <tr>\n",
       "      <th></th>\n",
       "      <th colspan=\"3\" halign=\"left\">Name</th>\n",
       "    </tr>\n",
       "    <tr>\n",
       "      <th>Pclass</th>\n",
       "      <th>1</th>\n",
       "      <th>2</th>\n",
       "      <th>3</th>\n",
       "    </tr>\n",
       "    <tr>\n",
       "      <th>deck</th>\n",
       "      <th></th>\n",
       "      <th></th>\n",
       "      <th></th>\n",
       "    </tr>\n",
       "  </thead>\n",
       "  <tbody>\n",
       "    <tr>\n",
       "      <th>A</th>\n",
       "      <td>15</td>\n",
       "      <td>0</td>\n",
       "      <td>0</td>\n",
       "    </tr>\n",
       "    <tr>\n",
       "      <th>B</th>\n",
       "      <td>47</td>\n",
       "      <td>0</td>\n",
       "      <td>0</td>\n",
       "    </tr>\n",
       "    <tr>\n",
       "      <th>C</th>\n",
       "      <td>59</td>\n",
       "      <td>0</td>\n",
       "      <td>0</td>\n",
       "    </tr>\n",
       "    <tr>\n",
       "      <th>D</th>\n",
       "      <td>29</td>\n",
       "      <td>4</td>\n",
       "      <td>0</td>\n",
       "    </tr>\n",
       "    <tr>\n",
       "      <th>E</th>\n",
       "      <td>25</td>\n",
       "      <td>4</td>\n",
       "      <td>3</td>\n",
       "    </tr>\n",
       "    <tr>\n",
       "      <th>F</th>\n",
       "      <td>0</td>\n",
       "      <td>8</td>\n",
       "      <td>5</td>\n",
       "    </tr>\n",
       "    <tr>\n",
       "      <th>G</th>\n",
       "      <td>0</td>\n",
       "      <td>0</td>\n",
       "      <td>4</td>\n",
       "    </tr>\n",
       "    <tr>\n",
       "      <th>T</th>\n",
       "      <td>1</td>\n",
       "      <td>0</td>\n",
       "      <td>0</td>\n",
       "    </tr>\n",
       "  </tbody>\n",
       "</table>\n",
       "</div>"
      ],
      "text/plain": [
       "       Name      \n",
       "Pclass    1  2  3\n",
       "deck             \n",
       "A        15  0  0\n",
       "B        47  0  0\n",
       "C        59  0  0\n",
       "D        29  4  0\n",
       "E        25  4  3\n",
       "F         0  8  5\n",
       "G         0  0  4\n",
       "T         1  0  0"
      ]
     },
     "execution_count": 23,
     "metadata": {},
     "output_type": "execute_result"
    }
   ],
   "source": [
    "# create pivot table of deck and passenger class, showing counts for each\n",
    "titanic.pivot_table(values=['Name'], index=['deck'], columns=['Pclass'], aggfunc='count')"
   ]
  },
  {
   "cell_type": "code",
   "execution_count": 24,
   "id": "occasional-model",
   "metadata": {
    "execution": {
     "iopub.execute_input": "2021-05-29T22:59:19.366005Z",
     "iopub.status.busy": "2021-05-29T22:59:19.365366Z",
     "iopub.status.idle": "2021-05-29T22:59:19.367302Z",
     "shell.execute_reply": "2021-05-29T22:59:19.367742Z",
     "shell.execute_reply.started": "2021-05-28T22:41:30.116967Z"
    },
    "papermill": {
     "duration": 0.075777,
     "end_time": "2021-05-29T22:59:19.367915",
     "exception": false,
     "start_time": "2021-05-29T22:59:19.292138",
     "status": "completed"
    },
    "tags": []
   },
   "outputs": [],
   "source": [
    "# drop deck feature that was created for purposes of data exploration\n",
    "titanic = titanic.drop('deck', axis=1)"
   ]
  },
  {
   "cell_type": "markdown",
   "id": "dated-table",
   "metadata": {
    "papermill": {
     "duration": 0.067896,
     "end_time": "2021-05-29T22:59:19.503791",
     "exception": false,
     "start_time": "2021-05-29T22:59:19.435895",
     "status": "completed"
    },
    "tags": []
   },
   "source": [
    "**Conclusion**: \n",
    "- Overall, almost 80% of the data in the Cabin/deck features is missing.  This is a significant amount of missing data.  \n",
    "- I thought I may be able to fill values by drawing some relation to a passengers class, but even based on this it would be difficult to come up with an accurate strategy to fill the missing values.  \n",
    "- Therefore, the cabin, and the deck feature will be dropped.  Since the deck feature was custom, I've dropped it above.  I'll leave in the cabin feature which will be dropped by our Pipeline I create later in this kernel."
   ]
  },
  {
   "cell_type": "markdown",
   "id": "liberal-rochester",
   "metadata": {
    "papermill": {
     "duration": 0.067617,
     "end_time": "2021-05-29T22:59:19.640019",
     "exception": false,
     "start_time": "2021-05-29T22:59:19.572402",
     "status": "completed"
    },
    "tags": []
   },
   "source": [
    "#### 1.9.2: Missing Data: Age\n",
    "- Next I'll look at the missing data in the Age feature"
   ]
  },
  {
   "cell_type": "code",
   "execution_count": 25,
   "id": "spatial-understanding",
   "metadata": {
    "execution": {
     "iopub.execute_input": "2021-05-29T22:59:19.778182Z",
     "iopub.status.busy": "2021-05-29T22:59:19.777547Z",
     "iopub.status.idle": "2021-05-29T22:59:19.964641Z",
     "shell.execute_reply": "2021-05-29T22:59:19.964121Z",
     "shell.execute_reply.started": "2021-05-28T22:41:30.127606Z"
    },
    "papermill": {
     "duration": 0.257104,
     "end_time": "2021-05-29T22:59:19.964782",
     "exception": false,
     "start_time": "2021-05-29T22:59:19.707678",
     "status": "completed"
    },
    "tags": []
   },
   "outputs": [
    {
     "data": {
      "image/png": "[encoded data removed]",
      "text/plain": [
       "<Figure size 432x288 with 1 Axes>"
      ]
     },
     "metadata": {
      "needs_background": "light"
     },
     "output_type": "display_data"
    }
   ],
   "source": [
    "# histogram of ages\n",
    "titanic['Age'].hist();"
   ]
  },
  {
   "cell_type": "code",
   "execution_count": 26,
   "id": "indoor-shield",
   "metadata": {
    "execution": {
     "iopub.execute_input": "2021-05-29T22:59:20.114505Z",
     "iopub.status.busy": "2021-05-29T22:59:20.113353Z",
     "iopub.status.idle": "2021-05-29T22:59:20.122988Z",
     "shell.execute_reply": "2021-05-29T22:59:20.122234Z",
     "shell.execute_reply.started": "2021-05-28T22:41:30.328658Z"
    },
    "papermill": {
     "duration": 0.088585,
     "end_time": "2021-05-29T22:59:20.123147",
     "exception": false,
     "start_time": "2021-05-29T22:59:20.034562",
     "status": "completed"
    },
    "tags": []
   },
   "outputs": [
    {
     "data": {
      "text/plain": [
       "count    714.000000\n",
       "mean      29.699118\n",
       "std       14.526497\n",
       "min        0.420000\n",
       "25%       20.125000\n",
       "50%       28.000000\n",
       "75%       38.000000\n",
       "max       80.000000\n",
       "Name: Age, dtype: float64"
      ]
     },
     "execution_count": 26,
     "metadata": {},
     "output_type": "execute_result"
    }
   ],
   "source": [
    "# get summary statistics for age feature\n",
    "titanic['Age'].describe()"
   ]
  },
  {
   "cell_type": "markdown",
   "id": "demanding-river",
   "metadata": {
    "papermill": {
     "duration": 0.07792,
     "end_time": "2021-05-29T22:59:20.278804",
     "exception": false,
     "start_time": "2021-05-29T22:59:20.200884",
     "status": "completed"
    },
    "tags": []
   },
   "source": [
    "**Conclusion**: \n",
    "- About 20% of the age data is missing.  I'll fill this with the mean age value (will be built into the pipeline later)."
   ]
  },
  {
   "cell_type": "markdown",
   "id": "crucial-civilization",
   "metadata": {
    "papermill": {
     "duration": 0.076883,
     "end_time": "2021-05-29T22:59:20.432940",
     "exception": false,
     "start_time": "2021-05-29T22:59:20.356057",
     "status": "completed"
    },
    "tags": []
   },
   "source": [
    "#### 1.9.3: Missing Data: Embarked\n",
    "- Lastly I'll look at the missing data in the Embarked feature"
   ]
  },
  {
   "cell_type": "code",
   "execution_count": 27,
   "id": "approximate-directive",
   "metadata": {
    "execution": {
     "iopub.execute_input": "2021-05-29T22:59:20.595044Z",
     "iopub.status.busy": "2021-05-29T22:59:20.594304Z",
     "iopub.status.idle": "2021-05-29T22:59:20.597972Z",
     "shell.execute_reply": "2021-05-29T22:59:20.598399Z",
     "shell.execute_reply.started": "2021-05-28T22:41:30.346324Z"
    },
    "papermill": {
     "duration": 0.0887,
     "end_time": "2021-05-29T22:59:20.598566",
     "exception": false,
     "start_time": "2021-05-29T22:59:20.509866",
     "status": "completed"
    },
    "tags": []
   },
   "outputs": [
    {
     "data": {
      "text/plain": [
       "S    644\n",
       "C    168\n",
       "Q     77\n",
       "Name: Embarked, dtype: int64"
      ]
     },
     "execution_count": 27,
     "metadata": {},
     "output_type": "execute_result"
    }
   ],
   "source": [
    "titanic['Embarked'].value_counts()"
   ]
  },
  {
   "cell_type": "markdown",
   "id": "directed-graphics",
   "metadata": {
    "papermill": {
     "duration": 0.068565,
     "end_time": "2021-05-29T22:59:20.736086",
     "exception": false,
     "start_time": "2021-05-29T22:59:20.667521",
     "status": "completed"
    },
    "tags": []
   },
   "source": [
    "**Conclusion**: \n",
    "- There's only 2 datapoints missing in the Embarked feature\n",
    "- The most common port of embarkation was 'S', so I'll fill the missing data with this value."
   ]
  },
  {
   "cell_type": "markdown",
   "id": "opposite-alliance",
   "metadata": {
    "papermill": {
     "duration": 0.068935,
     "end_time": "2021-05-29T22:59:20.873728",
     "exception": false,
     "start_time": "2021-05-29T22:59:20.804793",
     "status": "completed"
    },
    "tags": []
   },
   "source": [
    "# 2. Data preparation and pipeline construction\n",
    "Now I'll create a custom transformer and a pipeline for our data"
   ]
  },
  {
   "cell_type": "markdown",
   "id": "bulgarian-skill",
   "metadata": {
    "papermill": {
     "duration": 0.068537,
     "end_time": "2021-05-29T22:59:21.011247",
     "exception": false,
     "start_time": "2021-05-29T22:59:20.942710",
     "status": "completed"
    },
    "tags": []
   },
   "source": [
    "## 2.1: Create transformer for custom features\n",
    "- First, I'll create a custom transformer with sklearn to create the custom features that I created previously in the data exploration section (age category, title, family size).  The custom transformer will leverage sklearns BaseEstimator and TransformerMixin classes.\n",
    "- I'll also include an option to turn on the deck feature - however I won't be doing this due to the volume of missing data.  This is rather to show how you can add hyper parameters to custom transformers which could aid in fine tuning an ML model."
   ]
  },
  {
   "cell_type": "code",
   "execution_count": 28,
   "id": "serious-sender",
   "metadata": {
    "execution": {
     "iopub.execute_input": "2021-05-29T22:59:21.165110Z",
     "iopub.status.busy": "2021-05-29T22:59:21.163841Z",
     "iopub.status.idle": "2021-05-29T22:59:21.167574Z",
     "shell.execute_reply": "2021-05-29T22:59:21.167051Z",
     "shell.execute_reply.started": "2021-05-28T22:41:30.360221Z"
    },
    "papermill": {
     "duration": 0.08465,
     "end_time": "2021-05-29T22:59:21.167768",
     "exception": false,
     "start_time": "2021-05-29T22:59:21.083118",
     "status": "completed"
    },
    "tags": []
   },
   "outputs": [],
   "source": [
    "# age bins for age category feature\n",
    "bins = [0., 10., 20., 30., 40., 50., 60., np.inf]\n",
    "\n",
    "# create class that will create custom features in pipeline\n",
    "class CustomFeatures(BaseEstimator, TransformerMixin):\n",
    "    \"\"\"Represents the custom features added to the Titanic dataset\"\"\"\n",
    "    \n",
    "    def __init__(self, add_deck_feature=False):\n",
    "        self.add_deck_feature = add_deck_feature\n",
    "    \n",
    "    def fit(self, X, y=None):\n",
    "        return self    # nothing else to do\n",
    "    \n",
    "    def transform(self, X, y=None):\n",
    "        # create copy of dataset to avoid changes to original\n",
    "        X = X.copy()\n",
    "        \n",
    "        # age category feature\n",
    "        X['age_cat'] = np.searchsorted(bins, X['Age'].values)\n",
    "\n",
    "        # title feature\n",
    "        X['title'] = X['Name'].apply(get_title)\n",
    "        \n",
    "        # family size feature\n",
    "        X['fam_size'] = X['SibSp'] + X['Parch']\n",
    "        \n",
    "        # option to add deck feature if wanted\n",
    "        if self.add_deck_feature:\n",
    "            X['deck'] = X['Cabin'].apply(lambda x: x[0])\n",
    "        else:\n",
    "            pass\n",
    "        \n",
    "        return X"
   ]
  },
  {
   "cell_type": "code",
   "execution_count": 29,
   "id": "serious-costa",
   "metadata": {
    "execution": {
     "iopub.execute_input": "2021-05-29T22:59:21.317285Z",
     "iopub.status.busy": "2021-05-29T22:59:21.316639Z",
     "iopub.status.idle": "2021-05-29T22:59:21.326071Z",
     "shell.execute_reply": "2021-05-29T22:59:21.325512Z",
     "shell.execute_reply.started": "2021-05-28T22:41:30.374799Z"
    },
    "papermill": {
     "duration": 0.086265,
     "end_time": "2021-05-29T22:59:21.326218",
     "exception": false,
     "start_time": "2021-05-29T22:59:21.239953",
     "status": "completed"
    },
    "tags": []
   },
   "outputs": [],
   "source": [
    "# create instance of custom features transformer\n",
    "custom_features = CustomFeatures()\n",
    "\n",
    "# add custom features to dataset\n",
    "titanic = custom_features.transform(titanic)"
   ]
  },
  {
   "cell_type": "markdown",
   "id": "recent-source",
   "metadata": {
    "papermill": {
     "duration": 0.070582,
     "end_time": "2021-05-29T22:59:21.466898",
     "exception": false,
     "start_time": "2021-05-29T22:59:21.396316",
     "status": "completed"
    },
    "tags": []
   },
   "source": [
    "## 2.2: Create data pipeline\n",
    "- Now I'll build a data pipeline with sklearn.  \n",
    "- Pipelines are great as they are extremely efficient.  For example, once the pipeline is built, we can simply call it on the test set and it will perform all the feature engineering etc. for us all at once, rather than having to re-write custom code.\n",
    "- I'll also split out the labels from the training set in this section."
   ]
  },
  {
   "cell_type": "code",
   "execution_count": 30,
   "id": "downtown-prayer",
   "metadata": {
    "execution": {
     "iopub.execute_input": "2021-05-29T22:59:21.614190Z",
     "iopub.status.busy": "2021-05-29T22:59:21.613507Z",
     "iopub.status.idle": "2021-05-29T22:59:21.616443Z",
     "shell.execute_reply": "2021-05-29T22:59:21.615961Z",
     "shell.execute_reply.started": "2021-05-28T22:41:30.39936Z"
    },
    "papermill": {
     "duration": 0.079713,
     "end_time": "2021-05-29T22:59:21.616717",
     "exception": false,
     "start_time": "2021-05-29T22:59:21.537004",
     "status": "completed"
    },
    "tags": []
   },
   "outputs": [],
   "source": [
    "# create clean training set (split out labels into seperate DataFrame) before data cleaning and transformation\n",
    "titanic_labels = titanic['Survived'].copy()\n",
    "titanic = titanic.drop('Survived', axis=1)"
   ]
  },
  {
   "cell_type": "code",
   "execution_count": 31,
   "id": "sunrise-hierarchy",
   "metadata": {
    "execution": {
     "iopub.execute_input": "2021-05-29T22:59:21.765873Z",
     "iopub.status.busy": "2021-05-29T22:59:21.764152Z",
     "iopub.status.idle": "2021-05-29T22:59:21.777404Z",
     "shell.execute_reply": "2021-05-29T22:59:21.776872Z",
     "shell.execute_reply.started": "2021-05-28T22:41:30.415549Z"
    },
    "papermill": {
     "duration": 0.09114,
     "end_time": "2021-05-29T22:59:21.777554",
     "exception": false,
     "start_time": "2021-05-29T22:59:21.686414",
     "status": "completed"
    },
    "tags": []
   },
   "outputs": [],
   "source": [
    "# create list of numerical features\n",
    "titanic_num = titanic.select_dtypes(include=[np.number])\n",
    "titanic_num = titanic_num.drop(['age_cat'], axis=1)\n",
    "num_attr = list(titanic_num)\n",
    "\n",
    "# create list of ordinal features\n",
    "ord_attr = ['Pclass']\n",
    "\n",
    "# create list of categorical features\n",
    "cat_attr = ['Sex', 'Embarked', 'age_cat', 'title']"
   ]
  },
  {
   "cell_type": "code",
   "execution_count": 32,
   "id": "equivalent-desire",
   "metadata": {
    "execution": {
     "iopub.execute_input": "2021-05-29T22:59:21.926392Z",
     "iopub.status.busy": "2021-05-29T22:59:21.925729Z",
     "iopub.status.idle": "2021-05-29T22:59:21.928841Z",
     "shell.execute_reply": "2021-05-29T22:59:21.928298Z",
     "shell.execute_reply.started": "2021-05-28T22:41:30.44144Z"
    },
    "papermill": {
     "duration": 0.080429,
     "end_time": "2021-05-29T22:59:21.928981",
     "exception": false,
     "start_time": "2021-05-29T22:59:21.848552",
     "status": "completed"
    },
    "tags": []
   },
   "outputs": [],
   "source": [
    "# create pipleline for numerical features\n",
    "num_pipeline = Pipeline([\n",
    "    ('imputer', SimpleImputer(strategy='mean')),\n",
    "    ('std_scaler', StandardScaler())\n",
    "])\n",
    "\n",
    "# create pipleline for ordinal features\n",
    "ord_pipeline = Pipeline([\n",
    "    ('encoder', OrdinalEncoder(handle_unknown='ignore')),\n",
    "])\n",
    "\n",
    "# create pipleline for catgorical features\n",
    "cat_pipeline = Pipeline([\n",
    "    ('imputer', SimpleImputer(strategy='most_frequent')),\n",
    "    ('onehot', OneHotEncoder(handle_unknown='ignore'))\n",
    "])\n",
    "\n",
    "\n",
    "# create full pipeline to prepare and transform dataset\n",
    "full_pipeline = ColumnTransformer([\n",
    "    ('numerical', num_pipeline, num_attr),\n",
    "    ('ordinal', ord_pipeline, ord_attr),\n",
    "    ('categorical', cat_pipeline, cat_attr)],\n",
    "    remainder='drop')"
   ]
  },
  {
   "cell_type": "code",
   "execution_count": 33,
   "id": "specific-threshold",
   "metadata": {
    "execution": {
     "iopub.execute_input": "2021-05-29T22:59:22.081757Z",
     "iopub.status.busy": "2021-05-29T22:59:22.081077Z",
     "iopub.status.idle": "2021-05-29T22:59:22.104832Z",
     "shell.execute_reply": "2021-05-29T22:59:22.104197Z",
     "shell.execute_reply.started": "2021-05-28T22:41:30.452629Z"
    },
    "papermill": {
     "duration": 0.105461,
     "end_time": "2021-05-29T22:59:22.104989",
     "exception": false,
     "start_time": "2021-05-29T22:59:21.999528",
     "status": "completed"
    },
    "tags": []
   },
   "outputs": [],
   "source": [
    "# create prepared dataset by applying pipeline\n",
    "titanic_prepared = full_pipeline.fit_transform(titanic)\n",
    "\n",
    "# cast to dense numpy array (models were getting error w/ sparse matrix?)\n",
    "titanic_prepared = titanic_prepared.todense()"
   ]
  },
  {
   "cell_type": "markdown",
   "id": "advance-dining",
   "metadata": {
    "papermill": {
     "duration": 0.089858,
     "end_time": "2021-05-29T22:59:22.268471",
     "exception": false,
     "start_time": "2021-05-29T22:59:22.178613",
     "status": "completed"
    },
    "tags": []
   },
   "source": [
    "# 3. Model Selection, Tuning, and Emsembling\n",
    "- In this section, I'll train a few models and select a winner for further tuning."
   ]
  },
  {
   "cell_type": "markdown",
   "id": "threaded-henry",
   "metadata": {
    "papermill": {
     "duration": 0.069288,
     "end_time": "2021-05-29T22:59:22.416287",
     "exception": false,
     "start_time": "2021-05-29T22:59:22.346999",
     "status": "completed"
    },
    "tags": []
   },
   "source": [
    "## 3.1: Model 1 (Base model) Always predict a passenger dies\n",
    "- First I'll create and run a base model that always predicts that someone dies."
   ]
  },
  {
   "cell_type": "code",
   "execution_count": 34,
   "id": "silent-legislature",
   "metadata": {
    "execution": {
     "iopub.execute_input": "2021-05-29T22:59:22.560863Z",
     "iopub.status.busy": "2021-05-29T22:59:22.560206Z",
     "iopub.status.idle": "2021-05-29T22:59:22.563383Z",
     "shell.execute_reply": "2021-05-29T22:59:22.562849Z",
     "shell.execute_reply.started": "2021-05-28T22:41:30.493632Z"
    },
    "papermill": {
     "duration": 0.077715,
     "end_time": "2021-05-29T22:59:22.563526",
     "exception": false,
     "start_time": "2021-05-29T22:59:22.485811",
     "status": "completed"
    },
    "tags": []
   },
   "outputs": [],
   "source": [
    "# create base model - always predicts that someone dies\n",
    "class AlwaysDieClassifier(BaseEstimator):\n",
    "    def fit(self, X, y=None):\n",
    "        return self\n",
    "    def predict(self, X):\n",
    "        return np.zeros((len(X), 1), dtype=bool)"
   ]
  },
  {
   "cell_type": "code",
   "execution_count": 35,
   "id": "opening-partnership",
   "metadata": {
    "execution": {
     "iopub.execute_input": "2021-05-29T22:59:22.713649Z",
     "iopub.status.busy": "2021-05-29T22:59:22.712677Z",
     "iopub.status.idle": "2021-05-29T22:59:22.715166Z",
     "shell.execute_reply": "2021-05-29T22:59:22.715598Z",
     "shell.execute_reply.started": "2021-05-28T22:41:30.499755Z"
    },
    "papermill": {
     "duration": 0.081643,
     "end_time": "2021-05-29T22:59:22.715784",
     "exception": false,
     "start_time": "2021-05-29T22:59:22.634141",
     "status": "completed"
    },
    "tags": []
   },
   "outputs": [],
   "source": [
    "# create base model classifier\n",
    "ad_classifier = AlwaysDieClassifier()\n",
    "ad_pred = ad_classifier.predict(titanic_prepared)"
   ]
  },
  {
   "cell_type": "code",
   "execution_count": 36,
   "id": "spare-logistics",
   "metadata": {
    "execution": {
     "iopub.execute_input": "2021-05-29T22:59:22.864039Z",
     "iopub.status.busy": "2021-05-29T22:59:22.862951Z",
     "iopub.status.idle": "2021-05-29T22:59:22.872938Z",
     "shell.execute_reply": "2021-05-29T22:59:22.873693Z",
     "shell.execute_reply.started": "2021-05-28T22:41:30.516616Z"
    },
    "papermill": {
     "duration": 0.08687,
     "end_time": "2021-05-29T22:59:22.873922",
     "exception": false,
     "start_time": "2021-05-29T22:59:22.787052",
     "status": "completed"
    },
    "tags": []
   },
   "outputs": [
    {
     "name": "stdout",
     "output_type": "stream",
     "text": [
      "              precision    recall  f1-score   support\n",
      "\n",
      "       False       0.62      1.00      0.76       549\n",
      "        True       0.00      0.00      0.00       342\n",
      "\n",
      "    accuracy                           0.62       891\n",
      "   macro avg       0.31      0.50      0.38       891\n",
      "weighted avg       0.38      0.62      0.47       891\n",
      "\n"
     ]
    }
   ],
   "source": [
    "# classification report for base model\n",
    "print(classification_report(y_true=titanic_labels, y_pred=ad_pred, zero_division=0))"
   ]
  },
  {
   "cell_type": "markdown",
   "id": "average-clarity",
   "metadata": {
    "execution": {
     "iopub.execute_input": "2021-05-28T21:14:24.041291Z",
     "iopub.status.busy": "2021-05-28T21:14:24.040803Z",
     "iopub.status.idle": "2021-05-28T21:14:24.045437Z",
     "shell.execute_reply": "2021-05-28T21:14:24.044464Z",
     "shell.execute_reply.started": "2021-05-28T21:14:24.041251Z"
    },
    "papermill": {
     "duration": 0.071458,
     "end_time": "2021-05-29T22:59:23.020303",
     "exception": false,
     "start_time": "2021-05-29T22:59:22.948845",
     "status": "completed"
    },
    "tags": []
   },
   "source": [
    "## 3.2: Model 2: Logistic regression\n",
    "- Here I'll test out a standard logistic regression classifier."
   ]
  },
  {
   "cell_type": "code",
   "execution_count": 37,
   "id": "auburn-orientation",
   "metadata": {
    "execution": {
     "iopub.execute_input": "2021-05-29T22:59:23.169667Z",
     "iopub.status.busy": "2021-05-29T22:59:23.168966Z",
     "iopub.status.idle": "2021-05-29T22:59:23.441217Z",
     "shell.execute_reply": "2021-05-29T22:59:23.441784Z",
     "shell.execute_reply.started": "2021-05-28T22:41:30.539684Z"
    },
    "papermill": {
     "duration": 0.350028,
     "end_time": "2021-05-29T22:59:23.441968",
     "exception": false,
     "start_time": "2021-05-29T22:59:23.091940",
     "status": "completed"
    },
    "tags": []
   },
   "outputs": [],
   "source": [
    "# create logistic regression classifier\n",
    "log_classifier = LogisticRegression(random_state=42)\n",
    "log_classifier.fit(titanic_prepared, titanic_labels)\n",
    "log_pred = cross_val_predict(log_classifier, X=titanic_prepared, y=titanic_labels, cv=5)"
   ]
  },
  {
   "cell_type": "code",
   "execution_count": 38,
   "id": "referenced-penetration",
   "metadata": {
    "execution": {
     "iopub.execute_input": "2021-05-29T22:59:23.643304Z",
     "iopub.status.busy": "2021-05-29T22:59:23.642296Z",
     "iopub.status.idle": "2021-05-29T22:59:23.651218Z",
     "shell.execute_reply": "2021-05-29T22:59:23.651694Z",
     "shell.execute_reply.started": "2021-05-28T22:41:30.939464Z"
    },
    "papermill": {
     "duration": 0.08629,
     "end_time": "2021-05-29T22:59:23.651874",
     "exception": false,
     "start_time": "2021-05-29T22:59:23.565584",
     "status": "completed"
    },
    "tags": []
   },
   "outputs": [
    {
     "name": "stdout",
     "output_type": "stream",
     "text": [
      "              precision    recall  f1-score   support\n",
      "\n",
      "       False       0.84      0.87      0.85       549\n",
      "        True       0.78      0.73      0.75       342\n",
      "\n",
      "    accuracy                           0.82       891\n",
      "   macro avg       0.81      0.80      0.80       891\n",
      "weighted avg       0.82      0.82      0.82       891\n",
      "\n"
     ]
    }
   ],
   "source": [
    "# classification report for logistic regression model\n",
    "print(classification_report(y_true=titanic_labels, y_pred=log_pred))"
   ]
  },
  {
   "cell_type": "markdown",
   "id": "respected-nudist",
   "metadata": {
    "papermill": {
     "duration": 0.070918,
     "end_time": "2021-05-29T22:59:23.795810",
     "exception": false,
     "start_time": "2021-05-29T22:59:23.724892",
     "status": "completed"
    },
    "tags": []
   },
   "source": [
    "## 3.3: Model 3: SVM classifer\n",
    "- Here I'll test out a SVM classifier model."
   ]
  },
  {
   "cell_type": "code",
   "execution_count": 39,
   "id": "persistent-function",
   "metadata": {
    "execution": {
     "iopub.execute_input": "2021-05-29T22:59:23.947547Z",
     "iopub.status.busy": "2021-05-29T22:59:23.946881Z",
     "iopub.status.idle": "2021-05-29T22:59:24.122221Z",
     "shell.execute_reply": "2021-05-29T22:59:24.121646Z",
     "shell.execute_reply.started": "2021-05-28T22:41:30.957277Z"
    },
    "papermill": {
     "duration": 0.254474,
     "end_time": "2021-05-29T22:59:24.122368",
     "exception": false,
     "start_time": "2021-05-29T22:59:23.867894",
     "status": "completed"
    },
    "tags": []
   },
   "outputs": [],
   "source": [
    "# create SVM regression classifier\n",
    "svm_classifier = SVC(random_state=42)\n",
    "svm_classifier.fit(titanic_prepared, titanic_labels)\n",
    "svm_pred = cross_val_predict(svm_classifier, X=titanic_prepared, y=titanic_labels, cv=5)"
   ]
  },
  {
   "cell_type": "code",
   "execution_count": 40,
   "id": "cathedral-geometry",
   "metadata": {
    "execution": {
     "iopub.execute_input": "2021-05-29T22:59:24.270742Z",
     "iopub.status.busy": "2021-05-29T22:59:24.270041Z",
     "iopub.status.idle": "2021-05-29T22:59:24.280027Z",
     "shell.execute_reply": "2021-05-29T22:59:24.280594Z",
     "shell.execute_reply.started": "2021-05-28T22:41:31.175893Z"
    },
    "papermill": {
     "duration": 0.087547,
     "end_time": "2021-05-29T22:59:24.280796",
     "exception": false,
     "start_time": "2021-05-29T22:59:24.193249",
     "status": "completed"
    },
    "tags": []
   },
   "outputs": [
    {
     "name": "stdout",
     "output_type": "stream",
     "text": [
      "              precision    recall  f1-score   support\n",
      "\n",
      "       False       0.84      0.89      0.87       549\n",
      "        True       0.81      0.73      0.77       342\n",
      "\n",
      "    accuracy                           0.83       891\n",
      "   macro avg       0.83      0.81      0.82       891\n",
      "weighted avg       0.83      0.83      0.83       891\n",
      "\n"
     ]
    }
   ],
   "source": [
    "# classification report for SVM classifier model\n",
    "print(classification_report(y_true=titanic_labels, y_pred=svm_pred))"
   ]
  },
  {
   "cell_type": "markdown",
   "id": "traditional-disease",
   "metadata": {
    "papermill": {
     "duration": 0.072805,
     "end_time": "2021-05-29T22:59:24.424618",
     "exception": false,
     "start_time": "2021-05-29T22:59:24.351813",
     "status": "completed"
    },
    "tags": []
   },
   "source": [
    "## 3.4: Model 4: Random Forest\n",
    "- Here I'll test out a Random Forest classifier model."
   ]
  },
  {
   "cell_type": "code",
   "execution_count": 41,
   "id": "overhead-cartridge",
   "metadata": {
    "execution": {
     "iopub.execute_input": "2021-05-29T22:59:24.577056Z",
     "iopub.status.busy": "2021-05-29T22:59:24.576212Z",
     "iopub.status.idle": "2021-05-29T22:59:26.032201Z",
     "shell.execute_reply": "2021-05-29T22:59:26.032719Z",
     "shell.execute_reply.started": "2021-05-28T22:41:31.192984Z"
    },
    "papermill": {
     "duration": 1.535833,
     "end_time": "2021-05-29T22:59:26.032912",
     "exception": false,
     "start_time": "2021-05-29T22:59:24.497079",
     "status": "completed"
    },
    "tags": []
   },
   "outputs": [],
   "source": [
    "# create Random Forest classifier\n",
    "rf_classifier = RandomForestClassifier(random_state=42)\n",
    "rf_classifier.fit(titanic_prepared, titanic_labels)\n",
    "rf_pred = cross_val_predict(rf_classifier, X=titanic_prepared, y=titanic_labels, cv=5)"
   ]
  },
  {
   "cell_type": "code",
   "execution_count": 42,
   "id": "fresh-mileage",
   "metadata": {
    "execution": {
     "iopub.execute_input": "2021-05-29T22:59:26.182551Z",
     "iopub.status.busy": "2021-05-29T22:59:26.181886Z",
     "iopub.status.idle": "2021-05-29T22:59:26.191981Z",
     "shell.execute_reply": "2021-05-29T22:59:26.191336Z",
     "shell.execute_reply.started": "2021-05-28T22:41:32.605053Z"
    },
    "papermill": {
     "duration": 0.086929,
     "end_time": "2021-05-29T22:59:26.192127",
     "exception": false,
     "start_time": "2021-05-29T22:59:26.105198",
     "status": "completed"
    },
    "tags": []
   },
   "outputs": [
    {
     "name": "stdout",
     "output_type": "stream",
     "text": [
      "              precision    recall  f1-score   support\n",
      "\n",
      "       False       0.84      0.86      0.85       549\n",
      "        True       0.77      0.75      0.76       342\n",
      "\n",
      "    accuracy                           0.82       891\n",
      "   macro avg       0.81      0.80      0.80       891\n",
      "weighted avg       0.82      0.82      0.82       891\n",
      "\n"
     ]
    }
   ],
   "source": [
    "# classification report for random forest classifier model\n",
    "print(classification_report(y_true=titanic_labels, y_pred=rf_pred))"
   ]
  },
  {
   "cell_type": "markdown",
   "id": "angry-burns",
   "metadata": {
    "papermill": {
     "duration": 0.070415,
     "end_time": "2021-05-29T22:59:26.335258",
     "exception": false,
     "start_time": "2021-05-29T22:59:26.264843",
     "status": "completed"
    },
    "tags": []
   },
   "source": [
    "## 3.5: Model Tuning\n",
    "- Based on the above results, I will tune an SVM classifier and a Random Forest classifier to try to improve performance.\n",
    "- I'll then ensemble them together into a voting classifier model."
   ]
  },
  {
   "cell_type": "markdown",
   "id": "indirect-surgery",
   "metadata": {
    "papermill": {
     "duration": 0.071379,
     "end_time": "2021-05-29T22:59:26.477722",
     "exception": false,
     "start_time": "2021-05-29T22:59:26.406343",
     "status": "completed"
    },
    "tags": []
   },
   "source": [
    "### 3.5.1: SVM Classifier Tuning"
   ]
  },
  {
   "cell_type": "code",
   "execution_count": 43,
   "id": "innovative-george",
   "metadata": {
    "execution": {
     "iopub.execute_input": "2021-05-29T22:59:26.629035Z",
     "iopub.status.busy": "2021-05-29T22:59:26.628348Z",
     "iopub.status.idle": "2021-05-29T22:59:36.127660Z",
     "shell.execute_reply": "2021-05-29T22:59:36.128171Z",
     "shell.execute_reply.started": "2021-05-28T22:41:32.618657Z"
    },
    "papermill": {
     "duration": 9.578189,
     "end_time": "2021-05-29T22:59:36.128356",
     "exception": false,
     "start_time": "2021-05-29T22:59:26.550167",
     "status": "completed"
    },
    "tags": []
   },
   "outputs": [
    {
     "data": {
      "text/plain": [
       "GridSearchCV(cv=5, estimator=SVC(random_state=42),\n",
       "             param_grid=[{'C': [0.1, 0.5, 0.75, 1, 2, 5, 10],\n",
       "                          'gamma': ['scale', 'auto'],\n",
       "                          'kernel': ['linear', 'rbf', 'sigmoid']}],\n",
       "             return_train_score=True)"
      ]
     },
     "execution_count": 43,
     "metadata": {},
     "output_type": "execute_result"
    }
   ],
   "source": [
    "#parameters for SVM parameter grid\n",
    "C = [0.1, 0.5, 0.75, 1, 2, 5, 10]\n",
    "kernel = ['linear', 'rbf', 'sigmoid']\n",
    "gamma = ['scale', 'auto']\n",
    "\n",
    "# create SVM parameter grid\n",
    "svm_param_grid = [{'C':C,\n",
    "                   'kernel':kernel,\n",
    "                   'gamma':gamma}]\n",
    "\n",
    "# create SVM classifier\n",
    "svm_classifier = SVC(random_state=42)\n",
    "\n",
    "# create grid search for SVM model\n",
    "svm_grid_search = GridSearchCV(svm_classifier, param_grid=svm_param_grid, cv=5,\n",
    "                               return_train_score=True)\n",
    "\n",
    "# fit grid search\n",
    "svm_grid_search.fit(titanic_prepared, titanic_labels)"
   ]
  },
  {
   "cell_type": "code",
   "execution_count": 44,
   "id": "facial-portsmouth",
   "metadata": {
    "execution": {
     "iopub.execute_input": "2021-05-29T22:59:36.278618Z",
     "iopub.status.busy": "2021-05-29T22:59:36.277977Z",
     "iopub.status.idle": "2021-05-29T22:59:36.281835Z",
     "shell.execute_reply": "2021-05-29T22:59:36.282301Z",
     "shell.execute_reply.started": "2021-05-28T22:41:42.463215Z"
    },
    "papermill": {
     "duration": 0.081155,
     "end_time": "2021-05-29T22:59:36.282477",
     "exception": false,
     "start_time": "2021-05-29T22:59:36.201322",
     "status": "completed"
    },
    "tags": []
   },
   "outputs": [
    {
     "data": {
      "text/plain": [
       "{'C': 5, 'gamma': 'auto', 'kernel': 'rbf'}"
      ]
     },
     "execution_count": 44,
     "metadata": {},
     "output_type": "execute_result"
    }
   ],
   "source": [
    "# get best parameters for SVM grid search\n",
    "svm_grid_search.best_params_"
   ]
  },
  {
   "cell_type": "code",
   "execution_count": 45,
   "id": "dutch-solomon",
   "metadata": {
    "execution": {
     "iopub.execute_input": "2021-05-29T22:59:36.431343Z",
     "iopub.status.busy": "2021-05-29T22:59:36.430687Z",
     "iopub.status.idle": "2021-05-29T22:59:36.433662Z",
     "shell.execute_reply": "2021-05-29T22:59:36.433129Z",
     "shell.execute_reply.started": "2021-05-28T22:41:42.471707Z"
    },
    "papermill": {
     "duration": 0.080208,
     "end_time": "2021-05-29T22:59:36.433807",
     "exception": false,
     "start_time": "2021-05-29T22:59:36.353599",
     "status": "completed"
    },
    "tags": []
   },
   "outputs": [],
   "source": [
    "# save the best model\n",
    "svm_classifier_best = svm_grid_search.best_estimator_"
   ]
  },
  {
   "cell_type": "code",
   "execution_count": 46,
   "id": "mediterranean-cambodia",
   "metadata": {
    "execution": {
     "iopub.execute_input": "2021-05-29T22:59:36.585399Z",
     "iopub.status.busy": "2021-05-29T22:59:36.584410Z",
     "iopub.status.idle": "2021-05-29T22:59:36.732933Z",
     "shell.execute_reply": "2021-05-29T22:59:36.732173Z",
     "shell.execute_reply.started": "2021-05-28T22:41:42.485409Z"
    },
    "papermill": {
     "duration": 0.226606,
     "end_time": "2021-05-29T22:59:36.733125",
     "exception": false,
     "start_time": "2021-05-29T22:59:36.506519",
     "status": "completed"
    },
    "tags": []
   },
   "outputs": [
    {
     "name": "stdout",
     "output_type": "stream",
     "text": [
      "              precision    recall  f1-score   support\n",
      "\n",
      "       False       0.84      0.89      0.87       549\n",
      "        True       0.81      0.73      0.77       342\n",
      "\n",
      "    accuracy                           0.83       891\n",
      "   macro avg       0.83      0.81      0.82       891\n",
      "weighted avg       0.83      0.83      0.83       891\n",
      "\n"
     ]
    }
   ],
   "source": [
    "# classification report for SVM classifier model\n",
    "svm_pred = cross_val_predict(svm_classifier, X=titanic_prepared, y=titanic_labels, cv=5)\n",
    "print(classification_report(y_true=titanic_labels, y_pred=svm_pred))"
   ]
  },
  {
   "cell_type": "markdown",
   "id": "extraordinary-arizona",
   "metadata": {
    "papermill": {
     "duration": 0.07103,
     "end_time": "2021-05-29T22:59:36.876008",
     "exception": false,
     "start_time": "2021-05-29T22:59:36.804978",
     "status": "completed"
    },
    "tags": []
   },
   "source": [
    "### 3.5.2: Random Forest Classifier Tuning"
   ]
  },
  {
   "cell_type": "code",
   "execution_count": 47,
   "id": "adapted-criminal",
   "metadata": {
    "execution": {
     "iopub.execute_input": "2021-05-29T22:59:37.028840Z",
     "iopub.status.busy": "2021-05-29T22:59:37.027814Z",
     "iopub.status.idle": "2021-05-29T23:01:04.355803Z",
     "shell.execute_reply": "2021-05-29T23:01:04.356309Z",
     "shell.execute_reply.started": "2021-05-28T22:41:42.651117Z"
    },
    "papermill": {
     "duration": 87.408886,
     "end_time": "2021-05-29T23:01:04.356494",
     "exception": false,
     "start_time": "2021-05-29T22:59:36.947608",
     "status": "completed"
    },
    "tags": []
   },
   "outputs": [
    {
     "data": {
      "text/plain": [
       "GridSearchCV(cv=5, estimator=RandomForestClassifier(random_state=42),\n",
       "             param_grid={'bootstrap': [True, False],\n",
       "                         'max_features': [2, 3, 4, 5, 6, 7, 8],\n",
       "                         'n_estimators': [2, 4, 8, 16, 32, 64, 128, 256]},\n",
       "             return_train_score=True)"
      ]
     },
     "execution_count": 47,
     "metadata": {},
     "output_type": "execute_result"
    }
   ],
   "source": [
    "#parameters for rf parameter grid\n",
    "n_estimators = [2, 4, 8, 16, 32 ,64, 128, 256]\n",
    "max_features = [2, 3, 4, 5, 6, 7, 8]\n",
    "bootstrap = [True, False]\n",
    "\n",
    "# create rf parameter grid\n",
    "rf_param_grid = {'n_estimators':n_estimators,\n",
    "                 'max_features':max_features,\n",
    "                 'bootstrap':bootstrap}\n",
    "\n",
    "# create rf classifier\n",
    "rf_classifier = RandomForestClassifier(random_state=42)\n",
    "\n",
    "# create grid search for rf model\n",
    "rf_grid_search = GridSearchCV(rf_classifier, param_grid=rf_param_grid, cv=5,\n",
    "                               return_train_score=True)\n",
    "\n",
    "# fit grid search\n",
    "rf_grid_search.fit(titanic_prepared, titanic_labels)"
   ]
  },
  {
   "cell_type": "code",
   "execution_count": 48,
   "id": "uniform-brush",
   "metadata": {
    "execution": {
     "iopub.execute_input": "2021-05-29T23:01:04.504536Z",
     "iopub.status.busy": "2021-05-29T23:01:04.503752Z",
     "iopub.status.idle": "2021-05-29T23:01:04.508056Z",
     "shell.execute_reply": "2021-05-29T23:01:04.508513Z",
     "shell.execute_reply.started": "2021-05-28T22:43:09.222098Z"
    },
    "papermill": {
     "duration": 0.080327,
     "end_time": "2021-05-29T23:01:04.508740",
     "exception": false,
     "start_time": "2021-05-29T23:01:04.428413",
     "status": "completed"
    },
    "tags": []
   },
   "outputs": [
    {
     "data": {
      "text/plain": [
       "{'bootstrap': True, 'max_features': 6, 'n_estimators': 64}"
      ]
     },
     "execution_count": 48,
     "metadata": {},
     "output_type": "execute_result"
    }
   ],
   "source": [
    "# get best parameters for rf grid search\n",
    "rf_grid_search.best_params_"
   ]
  },
  {
   "cell_type": "code",
   "execution_count": 49,
   "id": "metallic-smooth",
   "metadata": {
    "execution": {
     "iopub.execute_input": "2021-05-29T23:01:04.659218Z",
     "iopub.status.busy": "2021-05-29T23:01:04.658536Z",
     "iopub.status.idle": "2021-05-29T23:01:04.661927Z",
     "shell.execute_reply": "2021-05-29T23:01:04.662479Z",
     "shell.execute_reply.started": "2021-05-28T22:43:09.230988Z"
    },
    "papermill": {
     "duration": 0.081287,
     "end_time": "2021-05-29T23:01:04.662665",
     "exception": false,
     "start_time": "2021-05-29T23:01:04.581378",
     "status": "completed"
    },
    "tags": []
   },
   "outputs": [],
   "source": [
    "# save the best model\n",
    "rf_classifier_best = rf_grid_search.best_estimator_"
   ]
  },
  {
   "cell_type": "code",
   "execution_count": 50,
   "id": "rental-guess",
   "metadata": {
    "execution": {
     "iopub.execute_input": "2021-05-29T23:01:04.810520Z",
     "iopub.status.busy": "2021-05-29T23:01:04.809864Z",
     "iopub.status.idle": "2021-05-29T23:01:05.997709Z",
     "shell.execute_reply": "2021-05-29T23:01:05.998712Z",
     "shell.execute_reply.started": "2021-05-28T22:43:09.244297Z"
    },
    "papermill": {
     "duration": 1.264062,
     "end_time": "2021-05-29T23:01:05.998994",
     "exception": false,
     "start_time": "2021-05-29T23:01:04.734932",
     "status": "completed"
    },
    "tags": []
   },
   "outputs": [
    {
     "name": "stdout",
     "output_type": "stream",
     "text": [
      "              precision    recall  f1-score   support\n",
      "\n",
      "       False       0.84      0.86      0.85       549\n",
      "        True       0.77      0.75      0.76       342\n",
      "\n",
      "    accuracy                           0.82       891\n",
      "   macro avg       0.81      0.80      0.80       891\n",
      "weighted avg       0.82      0.82      0.82       891\n",
      "\n"
     ]
    }
   ],
   "source": [
    "# classification report for rf classifier model\n",
    "rf_pred = cross_val_predict(rf_classifier, X=titanic_prepared, y=titanic_labels, cv=5)\n",
    "print(classification_report(y_true=titanic_labels, y_pred=rf_pred))"
   ]
  },
  {
   "cell_type": "markdown",
   "id": "contemporary-assurance",
   "metadata": {
    "papermill": {
     "duration": 0.072707,
     "end_time": "2021-05-29T23:01:06.146025",
     "exception": false,
     "start_time": "2021-05-29T23:01:06.073318",
     "status": "completed"
    },
    "tags": []
   },
   "source": [
    "## 3.6 Model ensembling\n",
    "- Finally, I'll ensemble the  best SVM and RF classifier models tuned above and create a voting classifier."
   ]
  },
  {
   "cell_type": "code",
   "execution_count": 51,
   "id": "colored-conservation",
   "metadata": {
    "execution": {
     "iopub.execute_input": "2021-05-29T23:01:06.300891Z",
     "iopub.status.busy": "2021-05-29T23:01:06.300137Z",
     "iopub.status.idle": "2021-05-29T23:01:06.491084Z",
     "shell.execute_reply": "2021-05-29T23:01:06.490350Z",
     "shell.execute_reply.started": "2021-05-28T22:43:10.471008Z"
    },
    "papermill": {
     "duration": 0.271303,
     "end_time": "2021-05-29T23:01:06.491250",
     "exception": false,
     "start_time": "2021-05-29T23:01:06.219947",
     "status": "completed"
    },
    "tags": []
   },
   "outputs": [
    {
     "data": {
      "text/plain": [
       "VotingClassifier(estimators=[('svm', SVC(C=5, gamma='auto', random_state=42)),\n",
       "                             ('rf',\n",
       "                              RandomForestClassifier(max_features=6,\n",
       "                                                     n_estimators=64,\n",
       "                                                     random_state=42))])"
      ]
     },
     "execution_count": 51,
     "metadata": {},
     "output_type": "execute_result"
    }
   ],
   "source": [
    "voting_classifier = VotingClassifier(estimators=[('svm', svm_classifier_best), ('rf', rf_classifier_best)])\n",
    "\n",
    "voting_classifier.fit(titanic_prepared, titanic_labels)"
   ]
  },
  {
   "cell_type": "markdown",
   "id": "involved-citation",
   "metadata": {
    "papermill": {
     "duration": 0.072364,
     "end_time": "2021-05-29T23:01:06.636028",
     "exception": false,
     "start_time": "2021-05-29T23:01:06.563664",
     "status": "completed"
    },
    "tags": []
   },
   "source": [
    "# 4. Final Predictions\n",
    "- First I'll run X_test through the pipeline and then use the voting classifier from above to get the final model predictions."
   ]
  },
  {
   "cell_type": "code",
   "execution_count": 52,
   "id": "green-ceiling",
   "metadata": {
    "execution": {
     "iopub.execute_input": "2021-05-29T23:01:06.787722Z",
     "iopub.status.busy": "2021-05-29T23:01:06.787054Z",
     "iopub.status.idle": "2021-05-29T23:01:06.804808Z",
     "shell.execute_reply": "2021-05-29T23:01:06.805299Z",
     "shell.execute_reply.started": "2021-05-28T22:43:10.669002Z"
    },
    "papermill": {
     "duration": 0.096761,
     "end_time": "2021-05-29T23:01:06.805489",
     "exception": false,
     "start_time": "2021-05-29T23:01:06.708728",
     "status": "completed"
    },
    "tags": []
   },
   "outputs": [],
   "source": [
    "# X test set\n",
    "X_test = titanic_test\n",
    "\n",
    "# add custom features to the test set\n",
    "X_test = custom_features.transform(X_test)\n",
    "\n",
    "# transform X test set\n",
    "X_test_prepared = full_pipeline.transform(X_test)\n",
    "\n",
    "# cast to dense numpy array (models were getting error w/ sparse matrix?)\n",
    "X_test_prepared = X_test_prepared.todense()"
   ]
  },
  {
   "cell_type": "code",
   "execution_count": 53,
   "id": "closed-particle",
   "metadata": {
    "execution": {
     "iopub.execute_input": "2021-05-29T23:01:06.955672Z",
     "iopub.status.busy": "2021-05-29T23:01:06.954971Z",
     "iopub.status.idle": "2021-05-29T23:01:06.995723Z",
     "shell.execute_reply": "2021-05-29T23:01:06.995119Z",
     "shell.execute_reply.started": "2021-05-28T22:43:10.697436Z"
    },
    "papermill": {
     "duration": 0.11772,
     "end_time": "2021-05-29T23:01:06.995867",
     "exception": false,
     "start_time": "2021-05-29T23:01:06.878147",
     "status": "completed"
    },
    "tags": []
   },
   "outputs": [],
   "source": [
    "# get final predictions\n",
    "predictions = voting_classifier.predict(X_test_prepared).astype(int)\n",
    "\n",
    "# create output dataframe\n",
    "output = pd.DataFrame({'PassengerId': titanic_test.index,\n",
    "                       'Survived': predictions})\n",
    "\n",
    "# store outputs to csv\n",
    "output.to_csv('my_submission.csv', index=False)"
   ]
  },
  {
   "cell_type": "markdown",
   "id": "naval-history",
   "metadata": {
    "papermill": {
     "duration": 0.073002,
     "end_time": "2021-05-29T23:01:07.141440",
     "exception": false,
     "start_time": "2021-05-29T23:01:07.068438",
     "status": "completed"
    },
    "tags": []
   },
   "source": [
    "# Thank you!\n",
    "Thanks for reviewing my kernel!  This was my first kaggle project and I'm looking forward to doing more.  Any comments/feedback is appreciated!\n",
    "\n",
    "Cheers,\n",
    "Nico"
   ]
  }
 ],
 "metadata": {
  "kernelspec": {
   "display_name": "Python 3",
   "language": "python",
   "name": "python3"
  },
  "language_info": {
   "codemirror_mode": {
    "name": "ipython",
    "version": 3
   },
   "file_extension": ".py",
   "mimetype": "text/x-python",
   "name": "python",
   "nbconvert_exporter": "python",
   "pygments_lexer": "ipython3",
   "version": "3.7.10"
  },
  "papermill": {
   "default_parameters": {},
   "duration": 126.792597,
   "end_time": "2021-05-29T23:01:08.025766",
   "environment_variables": {},
   "exception": null,
   "input_path": "__notebook__.ipynb",
   "output_path": "__notebook__.ipynb",
   "parameters": {},
   "start_time": "2021-05-29T22:59:01.233169",
   "version": "2.3.3"
  }
 },
 "nbformat": 4,
 "nbformat_minor": 5
}
